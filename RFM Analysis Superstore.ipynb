{
 "cells": [
  {
   "cell_type": "markdown",
   "id": "ff23bba4",
   "metadata": {},
   "source": [
    "#  <center> RFM Analysis on Superstore Data <center>\n",
    "Data source:  [kaggle](https://www.kaggle.com/datasets/bravehart101/sample-supermarket-dataset?select=SampleSuperstore.csv)\n",
    "***\n",
    "RFM analysis is a marketing technique used to quantitatively rank and group customers based on the recency, frequency and monetary total of their recent transactions to identify the best customers and perform targeted marketing campaigns.  \n",
    "\n",
    "* Recency: When was the user’s most recent transaction?  \n",
    "\n",
    "* Frequency:How often does the user transact?\n",
    "\n",
    "* Monetary (M): What is the size of the user’s transaction?\n",
    "\n",
    " The best RFM score is the one with the highest values for each variable. If a store uses a 1 to 5 scale for recency, frequency, and monetary, with 5 being the highest, then the perfect RFM score is 555"
   ]
  },
  {
   "cell_type": "code",
   "execution_count": 320,
   "id": "b6721758",
   "metadata": {},
   "outputs": [],
   "source": [
    "# import relevant libraries\n",
    "import pandas as pd\n",
    "from sklearn.cluster import KMeans # to create clusters\n",
    "import matplotlib.pyplot as plt\n",
    "import seaborn as sns\n",
    "plt.rcParams[\"figure.figsize\"] = (10,7) # to set the default height and width of all plots in this notebook\n",
    "plt.style.use('ggplot') # to use R's ggplot style for visuals\n",
    "import warnings\n",
    "\n",
    "warnings.filterwarnings('ignore', category=UserWarning, module='openpyxl') # to silence warnings for the module 'openpyxl'"
   ]
  },
  {
   "cell_type": "code",
   "execution_count": 321,
   "id": "e2779f9d",
   "metadata": {},
   "outputs": [
    {
     "data": {
      "text/html": [
       "<div>\n",
       "<style scoped>\n",
       "    .dataframe tbody tr th:only-of-type {\n",
       "        vertical-align: middle;\n",
       "    }\n",
       "\n",
       "    .dataframe tbody tr th {\n",
       "        vertical-align: top;\n",
       "    }\n",
       "\n",
       "    .dataframe thead th {\n",
       "        text-align: right;\n",
       "    }\n",
       "</style>\n",
       "<table border=\"1\" class=\"dataframe\">\n",
       "  <thead>\n",
       "    <tr style=\"text-align: right;\">\n",
       "      <th></th>\n",
       "      <th>Row ID</th>\n",
       "      <th>Order ID</th>\n",
       "      <th>Order Date</th>\n",
       "      <th>Ship Date</th>\n",
       "      <th>Ship Mode</th>\n",
       "      <th>Customer ID</th>\n",
       "      <th>Customer Name</th>\n",
       "      <th>Segment</th>\n",
       "      <th>Country/Region</th>\n",
       "      <th>City</th>\n",
       "      <th>...</th>\n",
       "      <th>Postal Code</th>\n",
       "      <th>Region</th>\n",
       "      <th>Product ID</th>\n",
       "      <th>Category</th>\n",
       "      <th>Sub-Category</th>\n",
       "      <th>Product Name</th>\n",
       "      <th>Sales</th>\n",
       "      <th>Quantity</th>\n",
       "      <th>Discount</th>\n",
       "      <th>Profit</th>\n",
       "    </tr>\n",
       "  </thead>\n",
       "  <tbody>\n",
       "    <tr>\n",
       "      <th>0</th>\n",
       "      <td>1</td>\n",
       "      <td>CA-2018-152156</td>\n",
       "      <td>2018-11-08</td>\n",
       "      <td>2018-11-11</td>\n",
       "      <td>Second Class</td>\n",
       "      <td>CG-12520</td>\n",
       "      <td>Claire Gute</td>\n",
       "      <td>Consumer</td>\n",
       "      <td>United States</td>\n",
       "      <td>Henderson</td>\n",
       "      <td>...</td>\n",
       "      <td>42420.0</td>\n",
       "      <td>South</td>\n",
       "      <td>FUR-BO-10001798</td>\n",
       "      <td>Furniture</td>\n",
       "      <td>Bookcases</td>\n",
       "      <td>Bush Somerset Collection Bookcase</td>\n",
       "      <td>261.96</td>\n",
       "      <td>2</td>\n",
       "      <td>0.0</td>\n",
       "      <td>41.9136</td>\n",
       "    </tr>\n",
       "    <tr>\n",
       "      <th>1</th>\n",
       "      <td>2</td>\n",
       "      <td>CA-2018-152156</td>\n",
       "      <td>2018-11-08</td>\n",
       "      <td>2018-11-11</td>\n",
       "      <td>Second Class</td>\n",
       "      <td>CG-12520</td>\n",
       "      <td>Claire Gute</td>\n",
       "      <td>Consumer</td>\n",
       "      <td>United States</td>\n",
       "      <td>Henderson</td>\n",
       "      <td>...</td>\n",
       "      <td>42420.0</td>\n",
       "      <td>South</td>\n",
       "      <td>FUR-CH-10000454</td>\n",
       "      <td>Furniture</td>\n",
       "      <td>Chairs</td>\n",
       "      <td>Hon Deluxe Fabric Upholstered Stacking Chairs,...</td>\n",
       "      <td>731.94</td>\n",
       "      <td>3</td>\n",
       "      <td>0.0</td>\n",
       "      <td>219.5820</td>\n",
       "    </tr>\n",
       "  </tbody>\n",
       "</table>\n",
       "<p>2 rows × 21 columns</p>\n",
       "</div>"
      ],
      "text/plain": [
       "   Row ID        Order ID Order Date  Ship Date     Ship Mode Customer ID  \\\n",
       "0       1  CA-2018-152156 2018-11-08 2018-11-11  Second Class    CG-12520   \n",
       "1       2  CA-2018-152156 2018-11-08 2018-11-11  Second Class    CG-12520   \n",
       "\n",
       "  Customer Name   Segment Country/Region       City  ... Postal Code  Region  \\\n",
       "0   Claire Gute  Consumer  United States  Henderson  ...     42420.0   South   \n",
       "1   Claire Gute  Consumer  United States  Henderson  ...     42420.0   South   \n",
       "\n",
       "        Product ID   Category Sub-Category  \\\n",
       "0  FUR-BO-10001798  Furniture    Bookcases   \n",
       "1  FUR-CH-10000454  Furniture       Chairs   \n",
       "\n",
       "                                        Product Name   Sales  Quantity  \\\n",
       "0                  Bush Somerset Collection Bookcase  261.96         2   \n",
       "1  Hon Deluxe Fabric Upholstered Stacking Chairs,...  731.94         3   \n",
       "\n",
       "   Discount    Profit  \n",
       "0       0.0   41.9136  \n",
       "1       0.0  219.5820  \n",
       "\n",
       "[2 rows x 21 columns]"
      ]
     },
     "execution_count": 321,
     "metadata": {},
     "output_type": "execute_result"
    }
   ],
   "source": [
    "# \n",
    "df = pd.read_excel('Sample - Superstore.xlsx')\n",
    "df.head(2)"
   ]
  },
  {
   "cell_type": "code",
   "execution_count": 322,
   "id": "2e5cd8ea",
   "metadata": {},
   "outputs": [
    {
     "data": {
      "text/html": [
       "<div>\n",
       "<style scoped>\n",
       "    .dataframe tbody tr th:only-of-type {\n",
       "        vertical-align: middle;\n",
       "    }\n",
       "\n",
       "    .dataframe tbody tr th {\n",
       "        vertical-align: top;\n",
       "    }\n",
       "\n",
       "    .dataframe thead th {\n",
       "        text-align: right;\n",
       "    }\n",
       "</style>\n",
       "<table border=\"1\" class=\"dataframe\">\n",
       "  <thead>\n",
       "    <tr style=\"text-align: right;\">\n",
       "      <th></th>\n",
       "      <th>Row ID</th>\n",
       "      <th>Postal Code</th>\n",
       "      <th>Sales</th>\n",
       "      <th>Quantity</th>\n",
       "      <th>Discount</th>\n",
       "      <th>Profit</th>\n",
       "    </tr>\n",
       "  </thead>\n",
       "  <tbody>\n",
       "    <tr>\n",
       "      <th>count</th>\n",
       "      <td>9994.000000</td>\n",
       "      <td>9983.000000</td>\n",
       "      <td>9994.000000</td>\n",
       "      <td>9994.000000</td>\n",
       "      <td>9994.000000</td>\n",
       "      <td>9994.000000</td>\n",
       "    </tr>\n",
       "    <tr>\n",
       "      <th>mean</th>\n",
       "      <td>4997.500000</td>\n",
       "      <td>55245.233297</td>\n",
       "      <td>229.858001</td>\n",
       "      <td>3.789574</td>\n",
       "      <td>0.156203</td>\n",
       "      <td>28.656896</td>\n",
       "    </tr>\n",
       "    <tr>\n",
       "      <th>std</th>\n",
       "      <td>2885.163629</td>\n",
       "      <td>32038.715955</td>\n",
       "      <td>623.245101</td>\n",
       "      <td>2.225110</td>\n",
       "      <td>0.206452</td>\n",
       "      <td>234.260108</td>\n",
       "    </tr>\n",
       "    <tr>\n",
       "      <th>min</th>\n",
       "      <td>1.000000</td>\n",
       "      <td>1040.000000</td>\n",
       "      <td>0.444000</td>\n",
       "      <td>1.000000</td>\n",
       "      <td>0.000000</td>\n",
       "      <td>-6599.978000</td>\n",
       "    </tr>\n",
       "    <tr>\n",
       "      <th>25%</th>\n",
       "      <td>2499.250000</td>\n",
       "      <td>23223.000000</td>\n",
       "      <td>17.280000</td>\n",
       "      <td>2.000000</td>\n",
       "      <td>0.000000</td>\n",
       "      <td>1.728750</td>\n",
       "    </tr>\n",
       "    <tr>\n",
       "      <th>50%</th>\n",
       "      <td>4997.500000</td>\n",
       "      <td>57103.000000</td>\n",
       "      <td>54.490000</td>\n",
       "      <td>3.000000</td>\n",
       "      <td>0.200000</td>\n",
       "      <td>8.666500</td>\n",
       "    </tr>\n",
       "    <tr>\n",
       "      <th>75%</th>\n",
       "      <td>7495.750000</td>\n",
       "      <td>90008.000000</td>\n",
       "      <td>209.940000</td>\n",
       "      <td>5.000000</td>\n",
       "      <td>0.200000</td>\n",
       "      <td>29.364000</td>\n",
       "    </tr>\n",
       "    <tr>\n",
       "      <th>max</th>\n",
       "      <td>9994.000000</td>\n",
       "      <td>99301.000000</td>\n",
       "      <td>22638.480000</td>\n",
       "      <td>14.000000</td>\n",
       "      <td>0.800000</td>\n",
       "      <td>8399.976000</td>\n",
       "    </tr>\n",
       "  </tbody>\n",
       "</table>\n",
       "</div>"
      ],
      "text/plain": [
       "            Row ID   Postal Code         Sales     Quantity     Discount  \\\n",
       "count  9994.000000   9983.000000   9994.000000  9994.000000  9994.000000   \n",
       "mean   4997.500000  55245.233297    229.858001     3.789574     0.156203   \n",
       "std    2885.163629  32038.715955    623.245101     2.225110     0.206452   \n",
       "min       1.000000   1040.000000      0.444000     1.000000     0.000000   \n",
       "25%    2499.250000  23223.000000     17.280000     2.000000     0.000000   \n",
       "50%    4997.500000  57103.000000     54.490000     3.000000     0.200000   \n",
       "75%    7495.750000  90008.000000    209.940000     5.000000     0.200000   \n",
       "max    9994.000000  99301.000000  22638.480000    14.000000     0.800000   \n",
       "\n",
       "            Profit  \n",
       "count  9994.000000  \n",
       "mean     28.656896  \n",
       "std     234.260108  \n",
       "min   -6599.978000  \n",
       "25%       1.728750  \n",
       "50%       8.666500  \n",
       "75%      29.364000  \n",
       "max    8399.976000  "
      ]
     },
     "execution_count": 322,
     "metadata": {},
     "output_type": "execute_result"
    }
   ],
   "source": [
    "df.describe()"
   ]
  },
  {
   "cell_type": "code",
   "execution_count": 323,
   "id": "9e887002",
   "metadata": {},
   "outputs": [
    {
     "name": "stdout",
     "output_type": "stream",
     "text": [
      "<class 'pandas.core.frame.DataFrame'>\n",
      "RangeIndex: 9994 entries, 0 to 9993\n",
      "Data columns (total 21 columns):\n",
      " #   Column          Non-Null Count  Dtype         \n",
      "---  ------          --------------  -----         \n",
      " 0   Row ID          9994 non-null   int64         \n",
      " 1   Order ID        9994 non-null   object        \n",
      " 2   Order Date      9994 non-null   datetime64[ns]\n",
      " 3   Ship Date       9994 non-null   datetime64[ns]\n",
      " 4   Ship Mode       9994 non-null   object        \n",
      " 5   Customer ID     9994 non-null   object        \n",
      " 6   Customer Name   9994 non-null   object        \n",
      " 7   Segment         9994 non-null   object        \n",
      " 8   Country/Region  9994 non-null   object        \n",
      " 9   City            9994 non-null   object        \n",
      " 10  State           9994 non-null   object        \n",
      " 11  Postal Code     9983 non-null   float64       \n",
      " 12  Region          9994 non-null   object        \n",
      " 13  Product ID      9994 non-null   object        \n",
      " 14  Category        9994 non-null   object        \n",
      " 15  Sub-Category    9994 non-null   object        \n",
      " 16  Product Name    9994 non-null   object        \n",
      " 17  Sales           9994 non-null   float64       \n",
      " 18  Quantity        9994 non-null   int64         \n",
      " 19  Discount        9994 non-null   float64       \n",
      " 20  Profit          9994 non-null   float64       \n",
      "dtypes: datetime64[ns](2), float64(4), int64(2), object(13)\n",
      "memory usage: 1.6+ MB\n"
     ]
    }
   ],
   "source": [
    "df.info()"
   ]
  },
  {
   "cell_type": "code",
   "execution_count": 324,
   "id": "859f286e",
   "metadata": {},
   "outputs": [
    {
     "data": {
      "text/plain": [
       "Row ID             0\n",
       "Order ID           0\n",
       "Order Date         0\n",
       "Ship Date          0\n",
       "Ship Mode          0\n",
       "Customer ID        0\n",
       "Customer Name      0\n",
       "Segment            0\n",
       "Country/Region     0\n",
       "City               0\n",
       "State              0\n",
       "Postal Code       11\n",
       "Region             0\n",
       "Product ID         0\n",
       "Category           0\n",
       "Sub-Category       0\n",
       "Product Name       0\n",
       "Sales              0\n",
       "Quantity           0\n",
       "Discount           0\n",
       "Profit             0\n",
       "dtype: int64"
      ]
     },
     "execution_count": 324,
     "metadata": {},
     "output_type": "execute_result"
    }
   ],
   "source": [
    "df.isna().sum()"
   ]
  },
  {
   "cell_type": "code",
   "execution_count": 325,
   "id": "ee3c95f7",
   "metadata": {},
   "outputs": [],
   "source": [
    "# drop na in postal code\n",
    "df = df[df['Postal Code'].notna()]"
   ]
  },
  {
   "cell_type": "code",
   "execution_count": 326,
   "id": "7f74e60c",
   "metadata": {},
   "outputs": [
    {
     "data": {
      "text/html": [
       "<div>\n",
       "<style scoped>\n",
       "    .dataframe tbody tr th:only-of-type {\n",
       "        vertical-align: middle;\n",
       "    }\n",
       "\n",
       "    .dataframe tbody tr th {\n",
       "        vertical-align: top;\n",
       "    }\n",
       "\n",
       "    .dataframe thead th {\n",
       "        text-align: right;\n",
       "    }\n",
       "</style>\n",
       "<table border=\"1\" class=\"dataframe\">\n",
       "  <thead>\n",
       "    <tr style=\"text-align: right;\">\n",
       "      <th></th>\n",
       "      <th>Row ID</th>\n",
       "      <th>Order ID</th>\n",
       "      <th>Order Date</th>\n",
       "      <th>Ship Date</th>\n",
       "      <th>Ship Mode</th>\n",
       "      <th>Customer ID</th>\n",
       "      <th>Customer Name</th>\n",
       "      <th>Segment</th>\n",
       "      <th>Country/Region</th>\n",
       "      <th>City</th>\n",
       "      <th>...</th>\n",
       "      <th>Postal Code</th>\n",
       "      <th>Region</th>\n",
       "      <th>Product ID</th>\n",
       "      <th>Category</th>\n",
       "      <th>Sub-Category</th>\n",
       "      <th>Product Name</th>\n",
       "      <th>Sales</th>\n",
       "      <th>Quantity</th>\n",
       "      <th>Discount</th>\n",
       "      <th>Profit</th>\n",
       "    </tr>\n",
       "  </thead>\n",
       "  <tbody>\n",
       "    <tr>\n",
       "      <th>0</th>\n",
       "      <td>1</td>\n",
       "      <td>CA-2018-152156</td>\n",
       "      <td>2018-11-08</td>\n",
       "      <td>2018-11-11</td>\n",
       "      <td>Second Class</td>\n",
       "      <td>CG-12520</td>\n",
       "      <td>Claire Gute</td>\n",
       "      <td>Consumer</td>\n",
       "      <td>United States</td>\n",
       "      <td>Henderson</td>\n",
       "      <td>...</td>\n",
       "      <td>42420.0</td>\n",
       "      <td>South</td>\n",
       "      <td>FUR-BO-10001798</td>\n",
       "      <td>Furniture</td>\n",
       "      <td>Bookcases</td>\n",
       "      <td>Bush Somerset Collection Bookcase</td>\n",
       "      <td>261.96</td>\n",
       "      <td>2</td>\n",
       "      <td>0.0</td>\n",
       "      <td>41.9136</td>\n",
       "    </tr>\n",
       "    <tr>\n",
       "      <th>1</th>\n",
       "      <td>2</td>\n",
       "      <td>CA-2018-152156</td>\n",
       "      <td>2018-11-08</td>\n",
       "      <td>2018-11-11</td>\n",
       "      <td>Second Class</td>\n",
       "      <td>CG-12520</td>\n",
       "      <td>Claire Gute</td>\n",
       "      <td>Consumer</td>\n",
       "      <td>United States</td>\n",
       "      <td>Henderson</td>\n",
       "      <td>...</td>\n",
       "      <td>42420.0</td>\n",
       "      <td>South</td>\n",
       "      <td>FUR-CH-10000454</td>\n",
       "      <td>Furniture</td>\n",
       "      <td>Chairs</td>\n",
       "      <td>Hon Deluxe Fabric Upholstered Stacking Chairs,...</td>\n",
       "      <td>731.94</td>\n",
       "      <td>3</td>\n",
       "      <td>0.0</td>\n",
       "      <td>219.5820</td>\n",
       "    </tr>\n",
       "  </tbody>\n",
       "</table>\n",
       "<p>2 rows × 21 columns</p>\n",
       "</div>"
      ],
      "text/plain": [
       "   Row ID        Order ID Order Date  Ship Date     Ship Mode Customer ID  \\\n",
       "0       1  CA-2018-152156 2018-11-08 2018-11-11  Second Class    CG-12520   \n",
       "1       2  CA-2018-152156 2018-11-08 2018-11-11  Second Class    CG-12520   \n",
       "\n",
       "  Customer Name   Segment Country/Region       City  ... Postal Code  Region  \\\n",
       "0   Claire Gute  Consumer  United States  Henderson  ...     42420.0   South   \n",
       "1   Claire Gute  Consumer  United States  Henderson  ...     42420.0   South   \n",
       "\n",
       "        Product ID   Category Sub-Category  \\\n",
       "0  FUR-BO-10001798  Furniture    Bookcases   \n",
       "1  FUR-CH-10000454  Furniture       Chairs   \n",
       "\n",
       "                                        Product Name   Sales  Quantity  \\\n",
       "0                  Bush Somerset Collection Bookcase  261.96         2   \n",
       "1  Hon Deluxe Fabric Upholstered Stacking Chairs,...  731.94         3   \n",
       "\n",
       "   Discount    Profit  \n",
       "0       0.0   41.9136  \n",
       "1       0.0  219.5820  \n",
       "\n",
       "[2 rows x 21 columns]"
      ]
     },
     "execution_count": 326,
     "metadata": {},
     "output_type": "execute_result"
    }
   ],
   "source": [
    "df.head(2)"
   ]
  },
  {
   "cell_type": "code",
   "execution_count": 327,
   "id": "3263569a",
   "metadata": {},
   "outputs": [],
   "source": [
    "# drop irrelevant columns\n",
    "df.drop('Row ID', axis = 1, inplace = True)"
   ]
  },
  {
   "cell_type": "markdown",
   "id": "669fbef6",
   "metadata": {},
   "source": [
    "## Calculate Recency"
   ]
  },
  {
   "cell_type": "code",
   "execution_count": 328,
   "id": "6f987ee0",
   "metadata": {},
   "outputs": [
    {
     "data": {
      "text/plain": [
       "Timestamp('2019-12-30 00:00:00')"
      ]
     },
     "execution_count": 328,
     "metadata": {},
     "output_type": "execute_result"
    }
   ],
   "source": [
    "# what is the most recent date in the entire data set\n",
    "#we're going to use this to calculate recency for all customers\n",
    "\n",
    "df['Order Date'].max()"
   ]
  },
  {
   "cell_type": "code",
   "execution_count": 329,
   "id": "d73f89da",
   "metadata": {},
   "outputs": [
    {
     "data": {
      "text/plain": [
       "Customer ID\n",
       "AA-10315   2019-06-29\n",
       "AA-10375   2019-12-11\n",
       "Name: Order Date, dtype: datetime64[ns]"
      ]
     },
     "execution_count": 329,
     "metadata": {},
     "output_type": "execute_result"
    }
   ],
   "source": [
    "# Group customer IDs by their most recent purchases\n",
    "recency = df.groupby('Customer ID')['Order Date'].max()\n",
    "recency.head(2)"
   ]
  },
  {
   "cell_type": "code",
   "execution_count": 330,
   "id": "2caa688c",
   "metadata": {},
   "outputs": [
    {
     "data": {
      "text/plain": [
       "Customer ID\n",
       "AA-10315   -184 days\n",
       "AA-10375    -19 days\n",
       "AA-10480   -259 days\n",
       "AA-10645    -55 days\n",
       "AB-10015   -415 days\n",
       "Name: Order Date, dtype: timedelta64[ns]"
      ]
     },
     "execution_count": 330,
     "metadata": {},
     "output_type": "execute_result"
    }
   ],
   "source": [
    "#calculate recency days by substracting each date from the max purchase date in the dataset\n",
    "# Keep the negatives so that during clustering, lower numbers will have lower scores\n",
    "recency = recency - df['Order Date'].max()\n",
    "recency.head()"
   ]
  },
  {
   "cell_type": "markdown",
   "id": "740f2d32",
   "metadata": {},
   "source": [
    "AA-10315: -184 days from the most recent order date ( 2019-12-30)"
   ]
  },
  {
   "cell_type": "code",
   "execution_count": 331,
   "id": "56a049bc",
   "metadata": {},
   "outputs": [
    {
     "data": {
      "text/plain": [
       "Customer ID\n",
       "AA-10315   -184\n",
       "AA-10375    -19\n",
       "AA-10480   -259\n",
       "AA-10645    -55\n",
       "AB-10015   -415\n",
       "Name: Order Date, dtype: int64"
      ]
     },
     "execution_count": 331,
     "metadata": {},
     "output_type": "execute_result"
    }
   ],
   "source": [
    "#extract only number of days portion from recency values\n",
    "recency = recency.dt.days\n",
    "\n",
    "#see the results\n",
    "recency.head()"
   ]
  },
  {
   "cell_type": "code",
   "execution_count": 332,
   "id": "db2b229f",
   "metadata": {},
   "outputs": [
    {
     "data": {
      "text/plain": [
       "Customer ID\n",
       "AA-10315   -184\n",
       "AA-10375    -19\n",
       "Name: Recency, dtype: int64"
      ]
     },
     "execution_count": 332,
     "metadata": {},
     "output_type": "execute_result"
    }
   ],
   "source": [
    "#TODO: Drename series to recency so that we can use that name as a column name for the RFM DataFrame we will create\n",
    "#your code here. name it 'Recency'\n",
    "recency = recency.rename('Recency', inplace = True)\n",
    "recency.head(2)"
   ]
  },
  {
   "cell_type": "code",
   "execution_count": 333,
   "id": "01963dd8",
   "metadata": {},
   "outputs": [
    {
     "data": {
      "text/html": [
       "<div>\n",
       "<style scoped>\n",
       "    .dataframe tbody tr th:only-of-type {\n",
       "        vertical-align: middle;\n",
       "    }\n",
       "\n",
       "    .dataframe tbody tr th {\n",
       "        vertical-align: top;\n",
       "    }\n",
       "\n",
       "    .dataframe thead th {\n",
       "        text-align: right;\n",
       "    }\n",
       "</style>\n",
       "<table border=\"1\" class=\"dataframe\">\n",
       "  <thead>\n",
       "    <tr style=\"text-align: right;\">\n",
       "      <th></th>\n",
       "      <th>Customer ID</th>\n",
       "      <th>Recency</th>\n",
       "    </tr>\n",
       "  </thead>\n",
       "  <tbody>\n",
       "    <tr>\n",
       "      <th>0</th>\n",
       "      <td>AA-10315</td>\n",
       "      <td>-184</td>\n",
       "    </tr>\n",
       "    <tr>\n",
       "      <th>1</th>\n",
       "      <td>AA-10375</td>\n",
       "      <td>-19</td>\n",
       "    </tr>\n",
       "  </tbody>\n",
       "</table>\n",
       "</div>"
      ],
      "text/plain": [
       "  Customer ID  Recency\n",
       "0    AA-10315     -184\n",
       "1    AA-10375      -19"
      ]
     },
     "execution_count": 333,
     "metadata": {},
     "output_type": "execute_result"
    }
   ],
   "source": [
    "#create a new DataFrame called 'RFM' using the recency series as the data for this dataframe.\n",
    "RFM = pd.DataFrame(recency)\n",
    "\n",
    "#pop out CustomerID to become a column. \n",
    "RFM.reset_index(inplace = True)\n",
    "RFM.head(2)"
   ]
  },
  {
   "cell_type": "code",
   "execution_count": 334,
   "id": "c561aacf",
   "metadata": {},
   "outputs": [
    {
     "data": {
      "text/html": [
       "<div>\n",
       "<style scoped>\n",
       "    .dataframe tbody tr th:only-of-type {\n",
       "        vertical-align: middle;\n",
       "    }\n",
       "\n",
       "    .dataframe tbody tr th {\n",
       "        vertical-align: top;\n",
       "    }\n",
       "\n",
       "    .dataframe thead th {\n",
       "        text-align: right;\n",
       "    }\n",
       "</style>\n",
       "<table border=\"1\" class=\"dataframe\">\n",
       "  <thead>\n",
       "    <tr style=\"text-align: right;\">\n",
       "      <th></th>\n",
       "      <th>Recency</th>\n",
       "    </tr>\n",
       "  </thead>\n",
       "  <tbody>\n",
       "    <tr>\n",
       "      <th>count</th>\n",
       "      <td>793.000000</td>\n",
       "    </tr>\n",
       "    <tr>\n",
       "      <th>mean</th>\n",
       "      <td>-147.292560</td>\n",
       "    </tr>\n",
       "    <tr>\n",
       "      <th>std</th>\n",
       "      <td>186.465917</td>\n",
       "    </tr>\n",
       "    <tr>\n",
       "      <th>min</th>\n",
       "      <td>-1164.000000</td>\n",
       "    </tr>\n",
       "    <tr>\n",
       "      <th>25%</th>\n",
       "      <td>-183.000000</td>\n",
       "    </tr>\n",
       "    <tr>\n",
       "      <th>50%</th>\n",
       "      <td>-76.000000</td>\n",
       "    </tr>\n",
       "    <tr>\n",
       "      <th>75%</th>\n",
       "      <td>-30.000000</td>\n",
       "    </tr>\n",
       "    <tr>\n",
       "      <th>max</th>\n",
       "      <td>0.000000</td>\n",
       "    </tr>\n",
       "  </tbody>\n",
       "</table>\n",
       "</div>"
      ],
      "text/plain": [
       "           Recency\n",
       "count   793.000000\n",
       "mean   -147.292560\n",
       "std     186.465917\n",
       "min   -1164.000000\n",
       "25%    -183.000000\n",
       "50%     -76.000000\n",
       "75%     -30.000000\n",
       "max       0.000000"
      ]
     },
     "execution_count": 334,
     "metadata": {},
     "output_type": "execute_result"
    }
   ],
   "source": [
    "RFM.describe()"
   ]
  },
  {
   "cell_type": "markdown",
   "id": "7789ac33",
   "metadata": {},
   "source": [
    "75% of clients ordered something 30 days before the most recent order date  \n",
    "50% ordered something 76 days before the last day of business on record  \n",
    "25% of the customers ordered something from the store 183 days before the last recorded order date  \n",
    "As at december 30 2019, the last time one of the store's customers ordered something was 1,164 days ago\n",
    "\n",
    "The boxplot below is a visual representation of these facts"
   ]
  },
  {
   "cell_type": "code",
   "execution_count": 335,
   "id": "10d58de6",
   "metadata": {},
   "outputs": [
    {
     "data": {
      "text/plain": [
       "<AxesSubplot:ylabel='Recency'>"
      ]
     },
     "execution_count": 335,
     "metadata": {},
     "output_type": "execute_result"
    },
    {
     "data": {
      "image/png": "[encoded data removed]",
      "text/plain": [
       "<Figure size 720x504 with 1 Axes>"
      ]
     },
     "metadata": {},
     "output_type": "display_data"
    }
   ],
   "source": [
    "sns.boxplot(y = 'Recency', data = RFM)"
   ]
  },
  {
   "cell_type": "markdown",
   "id": "6f388e28",
   "metadata": {},
   "source": [
    "### Calculate frequency"
   ]
  },
  {
   "cell_type": "code",
   "execution_count": 336,
   "id": "4166115b",
   "metadata": {},
   "outputs": [
    {
     "data": {
      "text/plain": [
       "Customer ID\n",
       "AA-10315    11\n",
       "AA-10375    15\n",
       "AA-10480    12\n",
       "AA-10645    18\n",
       "AB-10015     6\n",
       "            ..\n",
       "XP-21865    28\n",
       "YC-21895     8\n",
       "YS-21880    12\n",
       "ZC-21910    31\n",
       "ZD-21925     9\n",
       "Name: Customer ID, Length: 793, dtype: int64"
      ]
     },
     "execution_count": 336,
     "metadata": {},
     "output_type": "execute_result"
    }
   ],
   "source": [
    "df.groupby('Customer ID')['Customer ID'].count()"
   ]
  },
  {
   "cell_type": "markdown",
   "id": "16b14785",
   "metadata": {},
   "source": [
    "Customer AA-10315 made  11 orders"
   ]
  },
  {
   "cell_type": "code",
   "execution_count": 337,
   "id": "690bcae6",
   "metadata": {},
   "outputs": [],
   "source": [
    "# create series with variable name 'frequency' using the aggregated counts per customer ID above\n",
    "frequency = df.groupby('Customer ID')['Customer ID'].count()"
   ]
  },
  {
   "cell_type": "code",
   "execution_count": 338,
   "id": "b2540d63",
   "metadata": {},
   "outputs": [],
   "source": [
    "# Rename the series, not variable name to frequency with a capital F\n",
    "frequency = frequency.rename('Frequency', inplace = True)"
   ]
  },
  {
   "cell_type": "code",
   "execution_count": 339,
   "id": "1502feb5",
   "metadata": {},
   "outputs": [
    {
     "data": {
      "text/html": [
       "<div>\n",
       "<style scoped>\n",
       "    .dataframe tbody tr th:only-of-type {\n",
       "        vertical-align: middle;\n",
       "    }\n",
       "\n",
       "    .dataframe tbody tr th {\n",
       "        vertical-align: top;\n",
       "    }\n",
       "\n",
       "    .dataframe thead th {\n",
       "        text-align: right;\n",
       "    }\n",
       "</style>\n",
       "<table border=\"1\" class=\"dataframe\">\n",
       "  <thead>\n",
       "    <tr style=\"text-align: right;\">\n",
       "      <th></th>\n",
       "      <th>Customer ID</th>\n",
       "      <th>Recency</th>\n",
       "      <th>Frequency</th>\n",
       "    </tr>\n",
       "  </thead>\n",
       "  <tbody>\n",
       "    <tr>\n",
       "      <th>0</th>\n",
       "      <td>AA-10315</td>\n",
       "      <td>-184</td>\n",
       "      <td>11</td>\n",
       "    </tr>\n",
       "    <tr>\n",
       "      <th>1</th>\n",
       "      <td>AA-10375</td>\n",
       "      <td>-19</td>\n",
       "      <td>15</td>\n",
       "    </tr>\n",
       "  </tbody>\n",
       "</table>\n",
       "</div>"
      ],
      "text/plain": [
       "  Customer ID  Recency  Frequency\n",
       "0    AA-10315     -184         11\n",
       "1    AA-10375      -19         15"
      ]
     },
     "execution_count": 339,
     "metadata": {},
     "output_type": "execute_result"
    }
   ],
   "source": [
    "#Merge this frequency series into the RFM dataframe\n",
    "#rename the series inline\n",
    "RFM = RFM.merge(frequency,on='Customer ID')\n",
    "RFM.head(2)"
   ]
  },
  {
   "cell_type": "code",
   "execution_count": 340,
   "id": "743f5356",
   "metadata": {},
   "outputs": [
    {
     "data": {
      "text/html": [
       "<div>\n",
       "<style scoped>\n",
       "    .dataframe tbody tr th:only-of-type {\n",
       "        vertical-align: middle;\n",
       "    }\n",
       "\n",
       "    .dataframe tbody tr th {\n",
       "        vertical-align: top;\n",
       "    }\n",
       "\n",
       "    .dataframe thead th {\n",
       "        text-align: right;\n",
       "    }\n",
       "</style>\n",
       "<table border=\"1\" class=\"dataframe\">\n",
       "  <thead>\n",
       "    <tr style=\"text-align: right;\">\n",
       "      <th></th>\n",
       "      <th>Recency</th>\n",
       "      <th>Frequency</th>\n",
       "    </tr>\n",
       "  </thead>\n",
       "  <tbody>\n",
       "    <tr>\n",
       "      <th>count</th>\n",
       "      <td>793.000000</td>\n",
       "      <td>793.000000</td>\n",
       "    </tr>\n",
       "    <tr>\n",
       "      <th>mean</th>\n",
       "      <td>-147.292560</td>\n",
       "      <td>12.588903</td>\n",
       "    </tr>\n",
       "    <tr>\n",
       "      <th>std</th>\n",
       "      <td>186.465917</td>\n",
       "      <td>6.242165</td>\n",
       "    </tr>\n",
       "    <tr>\n",
       "      <th>min</th>\n",
       "      <td>-1164.000000</td>\n",
       "      <td>1.000000</td>\n",
       "    </tr>\n",
       "    <tr>\n",
       "      <th>25%</th>\n",
       "      <td>-183.000000</td>\n",
       "      <td>8.000000</td>\n",
       "    </tr>\n",
       "    <tr>\n",
       "      <th>50%</th>\n",
       "      <td>-76.000000</td>\n",
       "      <td>12.000000</td>\n",
       "    </tr>\n",
       "    <tr>\n",
       "      <th>75%</th>\n",
       "      <td>-30.000000</td>\n",
       "      <td>16.000000</td>\n",
       "    </tr>\n",
       "    <tr>\n",
       "      <th>max</th>\n",
       "      <td>0.000000</td>\n",
       "      <td>37.000000</td>\n",
       "    </tr>\n",
       "  </tbody>\n",
       "</table>\n",
       "</div>"
      ],
      "text/plain": [
       "           Recency   Frequency\n",
       "count   793.000000  793.000000\n",
       "mean   -147.292560   12.588903\n",
       "std     186.465917    6.242165\n",
       "min   -1164.000000    1.000000\n",
       "25%    -183.000000    8.000000\n",
       "50%     -76.000000   12.000000\n",
       "75%     -30.000000   16.000000\n",
       "max       0.000000   37.000000"
      ]
     },
     "execution_count": 340,
     "metadata": {},
     "output_type": "execute_result"
    }
   ],
   "source": [
    "RFM.describe()"
   ]
  },
  {
   "cell_type": "code",
   "execution_count": 341,
   "id": "950ba0d6",
   "metadata": {},
   "outputs": [
    {
     "data": {
      "text/plain": [
       "(0.0, 45.0)"
      ]
     },
     "execution_count": 341,
     "metadata": {},
     "output_type": "execute_result"
    },
    {
     "data": {
      "image/png": "[encoded data removed]",
      "text/plain": [
       "<Figure size 720x504 with 1 Axes>"
      ]
     },
     "metadata": {},
     "output_type": "display_data"
    }
   ],
   "source": [
    "sns.boxplot( y = 'Frequency', data = RFM)\n",
    "plt.ylim(0,45)"
   ]
  },
  {
   "cell_type": "markdown",
   "id": "f915d8bd",
   "metadata": {},
   "source": [
    "75% of the customers order something 16 times  \n",
    "25% are repeat customers of 8 orders \n",
    "One customer has ordered 27 times"
   ]
  },
  {
   "cell_type": "code",
   "execution_count": 342,
   "id": "bca63371",
   "metadata": {},
   "outputs": [
    {
     "data": {
      "text/plain": [
       "(0.0, 45.0)"
      ]
     },
     "execution_count": 342,
     "metadata": {},
     "output_type": "execute_result"
    },
    {
     "data": {
      "image/png": "[encoded data removed]",
      "text/plain": [
       "<Figure size 720x504 with 1 Axes>"
      ]
     },
     "metadata": {},
     "output_type": "display_data"
    }
   ],
   "source": [
    "sns.histplot(data = RFM['Frequency'])\n",
    "plt.title('Frequency Distribution')\n",
    "plt.xlim(0,45)"
   ]
  },
  {
   "cell_type": "code",
   "execution_count": 343,
   "id": "c5d11cec",
   "metadata": {},
   "outputs": [],
   "source": [
    "df['year'] = df['Order Date'].dt.year"
   ]
  },
  {
   "cell_type": "code",
   "execution_count": 344,
   "id": "2e537ab4",
   "metadata": {},
   "outputs": [
    {
     "data": {
      "text/html": [
       "<div>\n",
       "<style scoped>\n",
       "    .dataframe tbody tr th:only-of-type {\n",
       "        vertical-align: middle;\n",
       "    }\n",
       "\n",
       "    .dataframe tbody tr th {\n",
       "        vertical-align: top;\n",
       "    }\n",
       "\n",
       "    .dataframe thead th {\n",
       "        text-align: right;\n",
       "    }\n",
       "</style>\n",
       "<table border=\"1\" class=\"dataframe\">\n",
       "  <thead>\n",
       "    <tr style=\"text-align: right;\">\n",
       "      <th></th>\n",
       "      <th>Order ID</th>\n",
       "      <th>Order Date</th>\n",
       "      <th>Ship Date</th>\n",
       "      <th>Ship Mode</th>\n",
       "      <th>Customer ID</th>\n",
       "      <th>Customer Name</th>\n",
       "      <th>Segment</th>\n",
       "      <th>Country/Region</th>\n",
       "      <th>City</th>\n",
       "      <th>State</th>\n",
       "      <th>...</th>\n",
       "      <th>Region</th>\n",
       "      <th>Product ID</th>\n",
       "      <th>Category</th>\n",
       "      <th>Sub-Category</th>\n",
       "      <th>Product Name</th>\n",
       "      <th>Sales</th>\n",
       "      <th>Quantity</th>\n",
       "      <th>Discount</th>\n",
       "      <th>Profit</th>\n",
       "      <th>year</th>\n",
       "    </tr>\n",
       "  </thead>\n",
       "  <tbody>\n",
       "    <tr>\n",
       "      <th>0</th>\n",
       "      <td>CA-2018-152156</td>\n",
       "      <td>2018-11-08</td>\n",
       "      <td>2018-11-11</td>\n",
       "      <td>Second Class</td>\n",
       "      <td>CG-12520</td>\n",
       "      <td>Claire Gute</td>\n",
       "      <td>Consumer</td>\n",
       "      <td>United States</td>\n",
       "      <td>Henderson</td>\n",
       "      <td>Kentucky</td>\n",
       "      <td>...</td>\n",
       "      <td>South</td>\n",
       "      <td>FUR-BO-10001798</td>\n",
       "      <td>Furniture</td>\n",
       "      <td>Bookcases</td>\n",
       "      <td>Bush Somerset Collection Bookcase</td>\n",
       "      <td>261.96</td>\n",
       "      <td>2</td>\n",
       "      <td>0.0</td>\n",
       "      <td>41.9136</td>\n",
       "      <td>2018</td>\n",
       "    </tr>\n",
       "    <tr>\n",
       "      <th>1</th>\n",
       "      <td>CA-2018-152156</td>\n",
       "      <td>2018-11-08</td>\n",
       "      <td>2018-11-11</td>\n",
       "      <td>Second Class</td>\n",
       "      <td>CG-12520</td>\n",
       "      <td>Claire Gute</td>\n",
       "      <td>Consumer</td>\n",
       "      <td>United States</td>\n",
       "      <td>Henderson</td>\n",
       "      <td>Kentucky</td>\n",
       "      <td>...</td>\n",
       "      <td>South</td>\n",
       "      <td>FUR-CH-10000454</td>\n",
       "      <td>Furniture</td>\n",
       "      <td>Chairs</td>\n",
       "      <td>Hon Deluxe Fabric Upholstered Stacking Chairs,...</td>\n",
       "      <td>731.94</td>\n",
       "      <td>3</td>\n",
       "      <td>0.0</td>\n",
       "      <td>219.5820</td>\n",
       "      <td>2018</td>\n",
       "    </tr>\n",
       "  </tbody>\n",
       "</table>\n",
       "<p>2 rows × 21 columns</p>\n",
       "</div>"
      ],
      "text/plain": [
       "         Order ID Order Date  Ship Date     Ship Mode Customer ID  \\\n",
       "0  CA-2018-152156 2018-11-08 2018-11-11  Second Class    CG-12520   \n",
       "1  CA-2018-152156 2018-11-08 2018-11-11  Second Class    CG-12520   \n",
       "\n",
       "  Customer Name   Segment Country/Region       City     State  ...  Region  \\\n",
       "0   Claire Gute  Consumer  United States  Henderson  Kentucky  ...   South   \n",
       "1   Claire Gute  Consumer  United States  Henderson  Kentucky  ...   South   \n",
       "\n",
       "        Product ID   Category Sub-Category  \\\n",
       "0  FUR-BO-10001798  Furniture    Bookcases   \n",
       "1  FUR-CH-10000454  Furniture       Chairs   \n",
       "\n",
       "                                        Product Name   Sales  Quantity  \\\n",
       "0                  Bush Somerset Collection Bookcase  261.96         2   \n",
       "1  Hon Deluxe Fabric Upholstered Stacking Chairs,...  731.94         3   \n",
       "\n",
       "   Discount    Profit  year  \n",
       "0       0.0   41.9136  2018  \n",
       "1       0.0  219.5820  2018  \n",
       "\n",
       "[2 rows x 21 columns]"
      ]
     },
     "execution_count": 344,
     "metadata": {},
     "output_type": "execute_result"
    }
   ],
   "source": [
    "df.head(2)"
   ]
  },
  {
   "cell_type": "markdown",
   "id": "8eb185cf",
   "metadata": {},
   "source": [
    "## Calculate monetary value"
   ]
  },
  {
   "cell_type": "code",
   "execution_count": 345,
   "id": "d682c9b6",
   "metadata": {},
   "outputs": [
    {
     "data": {
      "text/plain": [
       "Customer ID\n",
       "AA-10315    5563.560\n",
       "AA-10375    1056.390\n",
       "AA-10480    1790.512\n",
       "AA-10645    5086.935\n",
       "AB-10015     886.156\n",
       "              ...   \n",
       "XP-21865    2374.658\n",
       "YC-21895    5454.350\n",
       "YS-21880    6720.444\n",
       "ZC-21910    8025.707\n",
       "ZD-21925    1493.944\n",
       "Name: Sales, Length: 793, dtype: float64"
      ]
     },
     "execution_count": 345,
     "metadata": {},
     "output_type": "execute_result"
    }
   ],
   "source": [
    "# Sales = Sale made in USD\n",
    "df.groupby('Customer ID').Sales.sum() \n"
   ]
  },
  {
   "cell_type": "code",
   "execution_count": 346,
   "id": "b74a2ca9",
   "metadata": {},
   "outputs": [],
   "source": [
    "# create series with variable name 'monetary' using the aggregated sum per customer ID above\n",
    "monetary = df.groupby('Customer ID').Sales.sum()\n",
    "\n",
    "# rename the series to 'Monetary' with a capital M. Note: you're not renaming the variable name but the series name \n",
    "\n",
    "monetary = monetary.rename('Monetary', inplace = True)"
   ]
  },
  {
   "cell_type": "code",
   "execution_count": 347,
   "id": "e5798b86",
   "metadata": {},
   "outputs": [
    {
     "data": {
      "text/html": [
       "<div>\n",
       "<style scoped>\n",
       "    .dataframe tbody tr th:only-of-type {\n",
       "        vertical-align: middle;\n",
       "    }\n",
       "\n",
       "    .dataframe tbody tr th {\n",
       "        vertical-align: top;\n",
       "    }\n",
       "\n",
       "    .dataframe thead th {\n",
       "        text-align: right;\n",
       "    }\n",
       "</style>\n",
       "<table border=\"1\" class=\"dataframe\">\n",
       "  <thead>\n",
       "    <tr style=\"text-align: right;\">\n",
       "      <th></th>\n",
       "      <th>Customer ID</th>\n",
       "      <th>Recency</th>\n",
       "      <th>Frequency</th>\n",
       "      <th>Monetary</th>\n",
       "    </tr>\n",
       "  </thead>\n",
       "  <tbody>\n",
       "    <tr>\n",
       "      <th>0</th>\n",
       "      <td>AA-10315</td>\n",
       "      <td>-184</td>\n",
       "      <td>11</td>\n",
       "      <td>5563.56</td>\n",
       "    </tr>\n",
       "    <tr>\n",
       "      <th>1</th>\n",
       "      <td>AA-10375</td>\n",
       "      <td>-19</td>\n",
       "      <td>15</td>\n",
       "      <td>1056.39</td>\n",
       "    </tr>\n",
       "  </tbody>\n",
       "</table>\n",
       "</div>"
      ],
      "text/plain": [
       "  Customer ID  Recency  Frequency  Monetary\n",
       "0    AA-10315     -184         11   5563.56\n",
       "1    AA-10375      -19         15   1056.39"
      ]
     },
     "execution_count": 347,
     "metadata": {},
     "output_type": "execute_result"
    }
   ],
   "source": [
    "#Merge this monetary series into the RFM dataframe\n",
    "RFM = RFM.merge(monetary, on = 'Customer ID')\n",
    "RFM.head(2)"
   ]
  },
  {
   "cell_type": "markdown",
   "id": "02fdc1b5",
   "metadata": {},
   "source": [
    "Customer with ID AA-10315 has spent $5563.56 between 2016 and 2019"
   ]
  },
  {
   "cell_type": "code",
   "execution_count": 348,
   "id": "0811862a",
   "metadata": {},
   "outputs": [
    {
     "data": {
      "text/html": [
       "<div>\n",
       "<style scoped>\n",
       "    .dataframe tbody tr th:only-of-type {\n",
       "        vertical-align: middle;\n",
       "    }\n",
       "\n",
       "    .dataframe tbody tr th {\n",
       "        vertical-align: top;\n",
       "    }\n",
       "\n",
       "    .dataframe thead th {\n",
       "        text-align: right;\n",
       "    }\n",
       "</style>\n",
       "<table border=\"1\" class=\"dataframe\">\n",
       "  <thead>\n",
       "    <tr style=\"text-align: right;\">\n",
       "      <th></th>\n",
       "      <th>Recency</th>\n",
       "      <th>Frequency</th>\n",
       "      <th>Monetary</th>\n",
       "    </tr>\n",
       "  </thead>\n",
       "  <tbody>\n",
       "    <tr>\n",
       "      <th>count</th>\n",
       "      <td>793.000000</td>\n",
       "      <td>793.000000</td>\n",
       "      <td>793.000000</td>\n",
       "    </tr>\n",
       "    <tr>\n",
       "      <th>mean</th>\n",
       "      <td>-147.292560</td>\n",
       "      <td>12.588903</td>\n",
       "      <td>2885.588260</td>\n",
       "    </tr>\n",
       "    <tr>\n",
       "      <th>std</th>\n",
       "      <td>186.465917</td>\n",
       "      <td>6.242165</td>\n",
       "      <td>2627.150235</td>\n",
       "    </tr>\n",
       "    <tr>\n",
       "      <th>min</th>\n",
       "      <td>-1164.000000</td>\n",
       "      <td>1.000000</td>\n",
       "      <td>4.833000</td>\n",
       "    </tr>\n",
       "    <tr>\n",
       "      <th>25%</th>\n",
       "      <td>-183.000000</td>\n",
       "      <td>8.000000</td>\n",
       "      <td>1137.616000</td>\n",
       "    </tr>\n",
       "    <tr>\n",
       "      <th>50%</th>\n",
       "      <td>-76.000000</td>\n",
       "      <td>12.000000</td>\n",
       "      <td>2243.510000</td>\n",
       "    </tr>\n",
       "    <tr>\n",
       "      <th>75%</th>\n",
       "      <td>-30.000000</td>\n",
       "      <td>16.000000</td>\n",
       "      <td>3747.668000</td>\n",
       "    </tr>\n",
       "    <tr>\n",
       "      <th>max</th>\n",
       "      <td>0.000000</td>\n",
       "      <td>37.000000</td>\n",
       "      <td>25043.050000</td>\n",
       "    </tr>\n",
       "  </tbody>\n",
       "</table>\n",
       "</div>"
      ],
      "text/plain": [
       "           Recency   Frequency      Monetary\n",
       "count   793.000000  793.000000    793.000000\n",
       "mean   -147.292560   12.588903   2885.588260\n",
       "std     186.465917    6.242165   2627.150235\n",
       "min   -1164.000000    1.000000      4.833000\n",
       "25%    -183.000000    8.000000   1137.616000\n",
       "50%     -76.000000   12.000000   2243.510000\n",
       "75%     -30.000000   16.000000   3747.668000\n",
       "max       0.000000   37.000000  25043.050000"
      ]
     },
     "execution_count": 348,
     "metadata": {},
     "output_type": "execute_result"
    }
   ],
   "source": [
    "RFM.describe()"
   ]
  },
  {
   "cell_type": "code",
   "execution_count": 349,
   "id": "6dc19a6a",
   "metadata": {},
   "outputs": [
    {
     "data": {
      "text/plain": [
       "(0.0, 10000.0)"
      ]
     },
     "execution_count": 349,
     "metadata": {},
     "output_type": "execute_result"
    },
    {
     "data": {
      "image/png": "[encoded data removed]",
      "text/plain": [
       "<Figure size 720x504 with 1 Axes>"
      ]
     },
     "metadata": {},
     "output_type": "display_data"
    }
   ],
   "source": [
    "sns.boxplot( y = RFM['Monetary'])\n",
    "plt.ylim(0,10000)"
   ]
  },
  {
   "cell_type": "markdown",
   "id": "b362acfe",
   "metadata": {},
   "source": [
    "Minimum spend is $4. \n",
    "\n",
    "Maximum spend is about $7500. \n",
    "\n",
    "There are outliers i.e figures appearing above the maximum  \n",
    "\n",
    "50% spent above and below $2k   \n",
    "\n",
    "75% spent about $3800"
   ]
  },
  {
   "cell_type": "markdown",
   "id": "1e02df7e",
   "metadata": {},
   "source": [
    "## Clustering with KMeans\n",
    "\n",
    "Here, we classify customers into groups based on recency, frequency and monetary value. A good way to find the optimal number of clusters is to use the elbow method"
   ]
  },
  {
   "cell_type": "code",
   "execution_count": 350,
   "id": "034fb1e1",
   "metadata": {},
   "outputs": [],
   "source": [
    "# Import more libraries for this task \n",
    "from scipy.spatial.distance import cdist\n",
    "import numpy as np"
   ]
  },
  {
   "cell_type": "markdown",
   "id": "79e90e39",
   "metadata": {},
   "source": [
    "# Apply the elbow method to determine number of clusters\n",
    "\n",
    "Inertia measures how well a dataset was clustered by K-Means. It is calculated by measuring the distance between each data point and its centroid, squaring this distance, and summing these squares across one cluster. A good model is one with low inertia AND a low number of clusters ( K )."
   ]
  },
  {
   "cell_type": "code",
   "execution_count": 351,
   "id": "f1b36f97",
   "metadata": {},
   "outputs": [
    {
     "name": "stdout",
     "output_type": "stream",
     "text": [
      "Cluster inertia at 1 = 27537474.126103405\n",
      "Cluster inertia at 2 = 7580350.110946748\n",
      "Cluster inertia at 3 = 3875632.600902253\n",
      "Cluster inertia at 4 = 2091992.2249115133\n",
      "Cluster inertia at 5 = 1484357.8012261204\n",
      "Cluster inertia at 6 = 994750.530102514\n",
      "Cluster inertia at 7 = 655662.9598637299\n",
      "Cluster inertia at 8 = 480195.4757718912\n",
      "Cluster inertia at 9 = 385805.5407719822\n",
      "Cluster inertia at 10 = 315271.9374109437\n"
     ]
    },
    {
     "data": {
      "text/plain": [
       "Text(0, 0.5, 'Inertia')"
      ]
     },
     "execution_count": 351,
     "metadata": {},
     "output_type": "execute_result"
    },
    {
     "data": {
      "image/png": "[encoded data removed]",
      "text/plain": [
       "<Figure size 720x504 with 1 Axes>"
      ]
     },
     "metadata": {},
     "output_type": "display_data"
    }
   ],
   "source": [
    "#recency\n",
    "cs = []\n",
    "for i in range(1,11):\n",
    "    kmeans = KMeans(i)\n",
    "    kmeans.fit(RFM[['Recency']])\n",
    "    cs_iter= kmeans.inertia_ #inertia measures how spread out the clusters are from their centroids, Lower inertia is better\n",
    "    cs.append(cs_iter)\n",
    "    print('Cluster inertia at {} = {}'.format(i, cs_iter))\n",
    "n_clust = range(1,11)    \n",
    "plt.plot(n_clust, cs, marker = 'o')\n",
    "plt.title('Selecting k with the Elbow Method: Recency')\n",
    "plt.xlabel('i')\n",
    "plt.ylabel('Inertia')"
   ]
  },
  {
   "cell_type": "code",
   "execution_count": 352,
   "id": "5a676eff",
   "metadata": {},
   "outputs": [
    {
     "name": "stdout",
     "output_type": "stream",
     "text": [
      "Cluster inertia at 1 = 30859.982345523313\n",
      "Cluster inertia at 2 = 11143.71153231895\n",
      "Cluster inertia at 3 = 5630.739841648668\n",
      "Cluster inertia at 4 = 3470.8874243112873\n",
      "Cluster inertia at 5 = 2153.559113800169\n",
      "Cluster inertia at 6 = 1548.918959402546\n",
      "Cluster inertia at 7 = 1105.1525669917555\n",
      "Cluster inertia at 8 = 888.8666723141752\n",
      "Cluster inertia at 9 = 674.7830444145937\n",
      "Cluster inertia at 10 = 557.9382305639787\n"
     ]
    },
    {
     "data": {
      "text/plain": [
       "Text(0, 0.5, 'Inertia')"
      ]
     },
     "execution_count": 352,
     "metadata": {},
     "output_type": "execute_result"
    },
    {
     "data": {
      "image/png": "[encoded data removed]",
      "text/plain": [
       "<Figure size 720x504 with 1 Axes>"
      ]
     },
     "metadata": {},
     "output_type": "display_data"
    }
   ],
   "source": [
    "#frequency\n",
    "cs = []\n",
    "for i in range(1,11):\n",
    "    kmeans = KMeans(i)\n",
    "    kmeans.fit(RFM[['Frequency']])\n",
    "    cs_iter= kmeans.inertia_ #inertia measures how spread out the clusters are from their centroids, Lower inertia is better\n",
    "    cs.append(cs_iter)\n",
    "    print('Cluster inertia at {} = {}'.format(i, cs_iter))\n",
    "n_clust = range(1,11)    \n",
    "plt.plot(n_clust, cs, marker = 'o')\n",
    "plt.title('Selecting k with the Elbow Method: Frequency')\n",
    "plt.xlabel('i')\n",
    "plt.ylabel('Inertia')"
   ]
  },
  {
   "cell_type": "code",
   "execution_count": 353,
   "id": "cbd0884d",
   "metadata": {},
   "outputs": [
    {
     "name": "stdout",
     "output_type": "stream",
     "text": [
      "Cluster inertia at 1 = 5466319340.781061\n",
      "Cluster inertia at 2 = 2166475891.536741\n",
      "Cluster inertia at 3 = 1180802021.6907554\n",
      "Cluster inertia at 4 = 687909199.7800552\n",
      "Cluster inertia at 5 = 476730756.7851751\n",
      "Cluster inertia at 6 = 314990732.2932007\n",
      "Cluster inertia at 7 = 233639087.274387\n",
      "Cluster inertia at 8 = 177468036.92952225\n",
      "Cluster inertia at 9 = 141748627.91188744\n",
      "Cluster inertia at 10 = 110532589.87298317\n"
     ]
    },
    {
     "data": {
      "text/plain": [
       "Text(0, 0.5, 'Inertia')"
      ]
     },
     "execution_count": 353,
     "metadata": {},
     "output_type": "execute_result"
    },
    {
     "data": {
      "image/png": "[encoded data removed]",
      "text/plain": [
       "<Figure size 720x504 with 1 Axes>"
      ]
     },
     "metadata": {},
     "output_type": "display_data"
    }
   ],
   "source": [
    "#frequency\n",
    "cs = []\n",
    "for i in range(1,11):\n",
    "    kmeans = KMeans(i)\n",
    "    kmeans.fit(RFM[['Monetary']])\n",
    "    cs_iter= kmeans.inertia_ #inertia measures how spread out the clusters are from their centroids, Lower inertia is better\n",
    "    cs.append(cs_iter)\n",
    "    print('Cluster inertia at {} = {}'.format(i, cs_iter))\n",
    "n_clust = range(1,11)    \n",
    "plt.plot(n_clust, cs, marker = 'o')\n",
    "plt.title('Selecting k with the Elbow Method: Monetary')\n",
    "plt.xlabel('i')\n",
    "plt.ylabel('Inertia')"
   ]
  },
  {
   "cell_type": "markdown",
   "id": "26776f4e",
   "metadata": {},
   "source": [
    "From the elbow plots, we can set the kmeans hyperparameter 'k' to 5"
   ]
  },
  {
   "cell_type": "code",
   "execution_count": 354,
   "id": "21c9ef5b",
   "metadata": {},
   "outputs": [],
   "source": [
    "# Set up kmeans to create 5 clusters\n",
    "kmeans = KMeans(n_clusters = 5, random_state = 1)"
   ]
  },
  {
   "cell_type": "code",
   "execution_count": 355,
   "id": "32d07b61",
   "metadata": {},
   "outputs": [],
   "source": [
    "#order cluster method\n",
    "def order_cluster(cluster_field_name, target_field_name,df,ascending):\n",
    "    '''\n",
    "    This function is used to create a consistent order for the cluster numbers \n",
    "    that will be the output of the KMeans prediction.\n",
    "    \n",
    "    Parameters:\n",
    "    cluster_field_name: str, name to be assigned to the cluster we are predicting for\n",
    "    target_field_name: str, name of the column we're clustering \n",
    "    df: DataFrame, source of the data where prediction is to be done\n",
    "    ascending: bool, order of cluster numbers\n",
    "    '''\n",
    "    #create column names using a prefix\n",
    "    new_cluster_field_name = 'new_' + cluster_field_name\n",
    "    #get mean value for the target column name\n",
    "    df_new = df.groupby(cluster_field_name)[target_field_name].mean().reset_index()\n",
    "    #sort mean values in ascending order\n",
    "    df_new = df_new.sort_values(by=target_field_name,ascending=ascending).reset_index(drop=True)\n",
    "    #create an index\n",
    "    df_new['index'] = df_new.index\n",
    "    #merge the new dataframe with old dataframe\n",
    "    df_final = pd.merge(df,df_new[[cluster_field_name,'index']], on=cluster_field_name)\n",
    "    #remove the old column\n",
    "    df_final = df_final.drop([cluster_field_name],axis=1)\n",
    "    #rename the index as the metric score we want\n",
    "    df_final = df_final.rename(columns={\"index\":cluster_field_name})\n",
    "    return df_final"
   ]
  },
  {
   "cell_type": "code",
   "execution_count": 356,
   "id": "924420f2",
   "metadata": {},
   "outputs": [],
   "source": [
    "# Fit the kmeans model to the Recency feature and predict clusters\n",
    "\n",
    "# Step 1: fit the model\n",
    "kmeans.fit(RFM[['Recency']])\n",
    "\n",
    "# Step 2; predict the clusters\n",
    "recency_labels = kmeans.predict(RFM[['Recency']])"
   ]
  },
  {
   "cell_type": "code",
   "execution_count": 357,
   "id": "2724003e",
   "metadata": {},
   "outputs": [
    {
     "data": {
      "text/plain": [
       "{0, 1, 2, 3, 4}"
      ]
     },
     "execution_count": 357,
     "metadata": {},
     "output_type": "execute_result"
    }
   ],
   "source": [
    "#view the unique cluster labels\n",
    "#by using a set, we ignore the repeatitions and return only unique values. Notice that the labels correspond to the\n",
    "#number of clusters set in the n_clusters parameter when initializing KMeans\n",
    "set(recency_labels)"
   ]
  },
  {
   "cell_type": "code",
   "execution_count": 358,
   "id": "406f6260",
   "metadata": {},
   "outputs": [],
   "source": [
    "#add clusters to our RFM dataframe\n",
    "RFM['Recency_Score'] = recency_labels"
   ]
  },
  {
   "cell_type": "code",
   "execution_count": 359,
   "id": "6cda5d53",
   "metadata": {},
   "outputs": [],
   "source": [
    "# Reorder the clusters so that they are sequential\n",
    "RFM = order_cluster('Recency_Score', 'Recency',RFM,True)\n"
   ]
  },
  {
   "cell_type": "code",
   "execution_count": 360,
   "id": "8ea01c7f",
   "metadata": {},
   "outputs": [
    {
     "data": {
      "text/html": [
       "<div>\n",
       "<style scoped>\n",
       "    .dataframe tbody tr th:only-of-type {\n",
       "        vertical-align: middle;\n",
       "    }\n",
       "\n",
       "    .dataframe tbody tr th {\n",
       "        vertical-align: top;\n",
       "    }\n",
       "\n",
       "    .dataframe thead th {\n",
       "        text-align: right;\n",
       "    }\n",
       "</style>\n",
       "<table border=\"1\" class=\"dataframe\">\n",
       "  <thead>\n",
       "    <tr style=\"text-align: right;\">\n",
       "      <th>Recency_Score</th>\n",
       "      <th>0</th>\n",
       "      <th>1</th>\n",
       "      <th>2</th>\n",
       "      <th>3</th>\n",
       "      <th>4</th>\n",
       "    </tr>\n",
       "  </thead>\n",
       "  <tbody>\n",
       "    <tr>\n",
       "      <th>count</th>\n",
       "      <td>29.000000</td>\n",
       "      <td>80.000000</td>\n",
       "      <td>98.000000</td>\n",
       "      <td>204.000000</td>\n",
       "      <td>382.000000</td>\n",
       "    </tr>\n",
       "    <tr>\n",
       "      <th>mean</th>\n",
       "      <td>-806.896552</td>\n",
       "      <td>-447.775000</td>\n",
       "      <td>-236.500000</td>\n",
       "      <td>-110.357843</td>\n",
       "      <td>-31.128272</td>\n",
       "    </tr>\n",
       "    <tr>\n",
       "      <th>std</th>\n",
       "      <td>143.366500</td>\n",
       "      <td>72.554297</td>\n",
       "      <td>46.607209</td>\n",
       "      <td>26.916298</td>\n",
       "      <td>18.821214</td>\n",
       "    </tr>\n",
       "    <tr>\n",
       "      <th>min</th>\n",
       "      <td>-1164.000000</td>\n",
       "      <td>-614.000000</td>\n",
       "      <td>-338.000000</td>\n",
       "      <td>-172.000000</td>\n",
       "      <td>-70.000000</td>\n",
       "    </tr>\n",
       "    <tr>\n",
       "      <th>25%</th>\n",
       "      <td>-834.000000</td>\n",
       "      <td>-497.250000</td>\n",
       "      <td>-277.750000</td>\n",
       "      <td>-125.000000</td>\n",
       "      <td>-46.000000</td>\n",
       "    </tr>\n",
       "    <tr>\n",
       "      <th>50%</th>\n",
       "      <td>-768.000000</td>\n",
       "      <td>-421.000000</td>\n",
       "      <td>-226.000000</td>\n",
       "      <td>-106.000000</td>\n",
       "      <td>-29.000000</td>\n",
       "    </tr>\n",
       "    <tr>\n",
       "      <th>75%</th>\n",
       "      <td>-718.000000</td>\n",
       "      <td>-391.000000</td>\n",
       "      <td>-196.250000</td>\n",
       "      <td>-89.750000</td>\n",
       "      <td>-16.000000</td>\n",
       "    </tr>\n",
       "    <tr>\n",
       "      <th>max</th>\n",
       "      <td>-637.000000</td>\n",
       "      <td>-344.000000</td>\n",
       "      <td>-174.000000</td>\n",
       "      <td>-71.000000</td>\n",
       "      <td>0.000000</td>\n",
       "    </tr>\n",
       "  </tbody>\n",
       "</table>\n",
       "</div>"
      ],
      "text/plain": [
       "Recency_Score            0           1           2           3           4\n",
       "count            29.000000   80.000000   98.000000  204.000000  382.000000\n",
       "mean           -806.896552 -447.775000 -236.500000 -110.357843  -31.128272\n",
       "std             143.366500   72.554297   46.607209   26.916298   18.821214\n",
       "min           -1164.000000 -614.000000 -338.000000 -172.000000  -70.000000\n",
       "25%            -834.000000 -497.250000 -277.750000 -125.000000  -46.000000\n",
       "50%            -768.000000 -421.000000 -226.000000 -106.000000  -29.000000\n",
       "75%            -718.000000 -391.000000 -196.250000  -89.750000  -16.000000\n",
       "max            -637.000000 -344.000000 -174.000000  -71.000000    0.000000"
      ]
     },
     "execution_count": 360,
     "metadata": {},
     "output_type": "execute_result"
    }
   ],
   "source": [
    "#view summary statistics\n",
    "RFM.groupby('Recency_Score').Recency.describe().T"
   ]
  },
  {
   "cell_type": "markdown",
   "id": "9502471f",
   "metadata": {},
   "source": [
    "In Cluster 5 (labelled '4' above),  285 out of 380 customers ordered something as recent as 16 days ago.  \n",
    "\n",
    "About 190 of the customers ordered something 29 days ago - within the context of this data.  \n",
    "\n",
    "Cluster 4 should raise red flags unless the goods in question are one off items. Exploratory data analysis will answer this question. \n",
    "\n"
   ]
  },
  {
   "cell_type": "code",
   "execution_count": 361,
   "id": "7aab3cc3",
   "metadata": {},
   "outputs": [
    {
     "data": {
      "text/plain": [
       "<AxesSubplot:xlabel='Customer ID', ylabel='Recency'>"
      ]
     },
     "execution_count": 361,
     "metadata": {},
     "output_type": "execute_result"
    },
    {
     "data": {
      "image/png": "[encoded data removed]",
      "text/plain": [
       "<Figure size 720x504 with 1 Axes>"
      ]
     },
     "metadata": {},
     "output_type": "display_data"
    }
   ],
   "source": [
    "# Add a little bit of color\n",
    "sns.scatterplot(x = RFM['Customer ID'], y = 'Recency', hue = 'Recency_Score', data = RFM, palette= 'deep')"
   ]
  },
  {
   "cell_type": "markdown",
   "id": "0731a224",
   "metadata": {},
   "source": [
    "# Frequency Clusters"
   ]
  },
  {
   "cell_type": "code",
   "execution_count": 362,
   "id": "11ef4d6d",
   "metadata": {},
   "outputs": [],
   "source": [
    "# fit the model\n",
    "kmeans.fit(RFM[['Frequency']])\n",
    "\n",
    "#predict clusters\n",
    "frequency_labels = kmeans.predict(RFM[['Frequency']]) \n",
    "\n",
    "#save clusters to dataframe\n",
    "RFM['Frequency_Score'] = frequency_labels\n",
    "\n",
    "# reorder the clusters\n",
    "RFM = order_cluster('Frequency_Score', 'Frequency', RFM, True)\n",
    "\n"
   ]
  },
  {
   "cell_type": "code",
   "execution_count": 363,
   "id": "659d383b",
   "metadata": {},
   "outputs": [
    {
     "data": {
      "text/html": [
       "<div>\n",
       "<style scoped>\n",
       "    .dataframe tbody tr th:only-of-type {\n",
       "        vertical-align: middle;\n",
       "    }\n",
       "\n",
       "    .dataframe tbody tr th {\n",
       "        vertical-align: top;\n",
       "    }\n",
       "\n",
       "    .dataframe thead th {\n",
       "        text-align: right;\n",
       "    }\n",
       "</style>\n",
       "<table border=\"1\" class=\"dataframe\">\n",
       "  <thead>\n",
       "    <tr style=\"text-align: right;\">\n",
       "      <th></th>\n",
       "      <th>Customer ID</th>\n",
       "      <th>Recency</th>\n",
       "      <th>Frequency</th>\n",
       "      <th>Monetary</th>\n",
       "      <th>Recency_Score</th>\n",
       "      <th>Frequency_Score</th>\n",
       "    </tr>\n",
       "  </thead>\n",
       "  <tbody>\n",
       "    <tr>\n",
       "      <th>0</th>\n",
       "      <td>AA-10315</td>\n",
       "      <td>-184</td>\n",
       "      <td>11</td>\n",
       "      <td>5563.5600</td>\n",
       "      <td>2</td>\n",
       "      <td>1</td>\n",
       "    </tr>\n",
       "    <tr>\n",
       "      <th>1</th>\n",
       "      <td>AA-10480</td>\n",
       "      <td>-259</td>\n",
       "      <td>12</td>\n",
       "      <td>1790.5120</td>\n",
       "      <td>2</td>\n",
       "      <td>1</td>\n",
       "    </tr>\n",
       "    <tr>\n",
       "      <th>2</th>\n",
       "      <td>AH-10465</td>\n",
       "      <td>-230</td>\n",
       "      <td>8</td>\n",
       "      <td>2495.3916</td>\n",
       "      <td>2</td>\n",
       "      <td>1</td>\n",
       "    </tr>\n",
       "    <tr>\n",
       "      <th>3</th>\n",
       "      <td>BD-11770</td>\n",
       "      <td>-327</td>\n",
       "      <td>10</td>\n",
       "      <td>658.4660</td>\n",
       "      <td>2</td>\n",
       "      <td>1</td>\n",
       "    </tr>\n",
       "    <tr>\n",
       "      <th>4</th>\n",
       "      <td>BS-11800</td>\n",
       "      <td>-265</td>\n",
       "      <td>8</td>\n",
       "      <td>949.4300</td>\n",
       "      <td>2</td>\n",
       "      <td>1</td>\n",
       "    </tr>\n",
       "  </tbody>\n",
       "</table>\n",
       "</div>"
      ],
      "text/plain": [
       "  Customer ID  Recency  Frequency   Monetary  Recency_Score  Frequency_Score\n",
       "0    AA-10315     -184         11  5563.5600              2                1\n",
       "1    AA-10480     -259         12  1790.5120              2                1\n",
       "2    AH-10465     -230          8  2495.3916              2                1\n",
       "3    BD-11770     -327         10   658.4660              2                1\n",
       "4    BS-11800     -265          8   949.4300              2                1"
      ]
     },
     "execution_count": 363,
     "metadata": {},
     "output_type": "execute_result"
    }
   ],
   "source": [
    "RFM.head()"
   ]
  },
  {
   "cell_type": "code",
   "execution_count": 364,
   "id": "70d33ad5",
   "metadata": {},
   "outputs": [
    {
     "data": {
      "text/html": [
       "<div>\n",
       "<style scoped>\n",
       "    .dataframe tbody tr th:only-of-type {\n",
       "        vertical-align: middle;\n",
       "    }\n",
       "\n",
       "    .dataframe tbody tr th {\n",
       "        vertical-align: top;\n",
       "    }\n",
       "\n",
       "    .dataframe thead th {\n",
       "        text-align: right;\n",
       "    }\n",
       "</style>\n",
       "<table border=\"1\" class=\"dataframe\">\n",
       "  <thead>\n",
       "    <tr style=\"text-align: right;\">\n",
       "      <th>Frequency_Score</th>\n",
       "      <th>0</th>\n",
       "      <th>1</th>\n",
       "      <th>2</th>\n",
       "      <th>3</th>\n",
       "      <th>4</th>\n",
       "    </tr>\n",
       "  </thead>\n",
       "  <tbody>\n",
       "    <tr>\n",
       "      <th>count</th>\n",
       "      <td>172.000000</td>\n",
       "      <td>259.000000</td>\n",
       "      <td>203.000000</td>\n",
       "      <td>114.000000</td>\n",
       "      <td>45.000000</td>\n",
       "    </tr>\n",
       "    <tr>\n",
       "      <th>mean</th>\n",
       "      <td>5.168605</td>\n",
       "      <td>9.992278</td>\n",
       "      <td>14.650246</td>\n",
       "      <td>20.035088</td>\n",
       "      <td>27.733333</td>\n",
       "    </tr>\n",
       "    <tr>\n",
       "      <th>std</th>\n",
       "      <td>1.710153</td>\n",
       "      <td>1.338147</td>\n",
       "      <td>1.353703</td>\n",
       "      <td>1.568099</td>\n",
       "      <td>3.466725</td>\n",
       "    </tr>\n",
       "    <tr>\n",
       "      <th>min</th>\n",
       "      <td>1.000000</td>\n",
       "      <td>8.000000</td>\n",
       "      <td>13.000000</td>\n",
       "      <td>18.000000</td>\n",
       "      <td>24.000000</td>\n",
       "    </tr>\n",
       "    <tr>\n",
       "      <th>25%</th>\n",
       "      <td>4.000000</td>\n",
       "      <td>9.000000</td>\n",
       "      <td>14.000000</td>\n",
       "      <td>19.000000</td>\n",
       "      <td>25.000000</td>\n",
       "    </tr>\n",
       "    <tr>\n",
       "      <th>50%</th>\n",
       "      <td>6.000000</td>\n",
       "      <td>10.000000</td>\n",
       "      <td>14.000000</td>\n",
       "      <td>20.000000</td>\n",
       "      <td>27.000000</td>\n",
       "    </tr>\n",
       "    <tr>\n",
       "      <th>75%</th>\n",
       "      <td>7.000000</td>\n",
       "      <td>11.000000</td>\n",
       "      <td>16.000000</td>\n",
       "      <td>21.000000</td>\n",
       "      <td>30.000000</td>\n",
       "    </tr>\n",
       "    <tr>\n",
       "      <th>max</th>\n",
       "      <td>7.000000</td>\n",
       "      <td>12.000000</td>\n",
       "      <td>17.000000</td>\n",
       "      <td>23.000000</td>\n",
       "      <td>37.000000</td>\n",
       "    </tr>\n",
       "  </tbody>\n",
       "</table>\n",
       "</div>"
      ],
      "text/plain": [
       "Frequency_Score           0           1           2           3          4\n",
       "count            172.000000  259.000000  203.000000  114.000000  45.000000\n",
       "mean               5.168605    9.992278   14.650246   20.035088  27.733333\n",
       "std                1.710153    1.338147    1.353703    1.568099   3.466725\n",
       "min                1.000000    8.000000   13.000000   18.000000  24.000000\n",
       "25%                4.000000    9.000000   14.000000   19.000000  25.000000\n",
       "50%                6.000000   10.000000   14.000000   20.000000  27.000000\n",
       "75%                7.000000   11.000000   16.000000   21.000000  30.000000\n",
       "max                7.000000   12.000000   17.000000   23.000000  37.000000"
      ]
     },
     "execution_count": 364,
     "metadata": {},
     "output_type": "execute_result"
    }
   ],
   "source": [
    "# View Frequency summary statistics \n",
    "RFM.groupby('Frequency_Score')['Frequency'].describe().T"
   ]
  },
  {
   "cell_type": "raw",
   "id": "c7cbb18e",
   "metadata": {},
   "source": [
    "For repeat customers, Cluster 1 (labeled '0') has 172 customers with an avearge of 5 return purchases. \n",
    "\n",
    "Cluster 5 has 34 customers where 75% of them individually ordered goods 31 times.  One of these customers even ordered items 37 times. Are these items that require regular purchases or is this customer a loyal one?"
   ]
  },
  {
   "cell_type": "code",
   "execution_count": 365,
   "id": "b5ceb1d7",
   "metadata": {},
   "outputs": [
    {
     "data": {
      "text/plain": [
       "<AxesSubplot:xlabel='Customer ID', ylabel='Frequency'>"
      ]
     },
     "execution_count": 365,
     "metadata": {},
     "output_type": "execute_result"
    },
    {
     "data": {
      "image/png": "[encoded data removed]",
      "text/plain": [
       "<Figure size 720x504 with 1 Axes>"
      ]
     },
     "metadata": {},
     "output_type": "display_data"
    }
   ],
   "source": [
    "sns.scatterplot(x = RFM['Customer ID'], y = 'Frequency', hue = 'Frequency_Score', data = RFM, palette = 'pastel')"
   ]
  },
  {
   "cell_type": "markdown",
   "id": "6ff85626",
   "metadata": {},
   "source": [
    "# Monetary value clusters"
   ]
  },
  {
   "cell_type": "code",
   "execution_count": 366,
   "id": "fc87ebf2",
   "metadata": {},
   "outputs": [
    {
     "data": {
      "text/html": [
       "<div>\n",
       "<style scoped>\n",
       "    .dataframe tbody tr th:only-of-type {\n",
       "        vertical-align: middle;\n",
       "    }\n",
       "\n",
       "    .dataframe tbody tr th {\n",
       "        vertical-align: top;\n",
       "    }\n",
       "\n",
       "    .dataframe thead th {\n",
       "        text-align: right;\n",
       "    }\n",
       "</style>\n",
       "<table border=\"1\" class=\"dataframe\">\n",
       "  <thead>\n",
       "    <tr style=\"text-align: right;\">\n",
       "      <th>Monetary_Score</th>\n",
       "      <th>0</th>\n",
       "      <th>1</th>\n",
       "      <th>2</th>\n",
       "      <th>3</th>\n",
       "      <th>4</th>\n",
       "    </tr>\n",
       "  </thead>\n",
       "  <tbody>\n",
       "    <tr>\n",
       "      <th>count</th>\n",
       "      <td>346.000000</td>\n",
       "      <td>275.000000</td>\n",
       "      <td>118.000000</td>\n",
       "      <td>46.000000</td>\n",
       "      <td>8.000000</td>\n",
       "    </tr>\n",
       "    <tr>\n",
       "      <th>mean</th>\n",
       "      <td>1004.349838</td>\n",
       "      <td>2844.044321</td>\n",
       "      <td>5223.936874</td>\n",
       "      <td>8972.979304</td>\n",
       "      <td>16184.082375</td>\n",
       "    </tr>\n",
       "    <tr>\n",
       "      <th>std</th>\n",
       "      <td>519.539521</td>\n",
       "      <td>565.020635</td>\n",
       "      <td>806.322088</td>\n",
       "      <td>1546.362462</td>\n",
       "      <td>4008.206477</td>\n",
       "    </tr>\n",
       "    <tr>\n",
       "      <th>min</th>\n",
       "      <td>4.833000</td>\n",
       "      <td>1934.272000</td>\n",
       "      <td>4046.746000</td>\n",
       "      <td>7198.761000</td>\n",
       "      <td>12873.298000</td>\n",
       "    </tr>\n",
       "    <tr>\n",
       "      <th>25%</th>\n",
       "      <td>619.261000</td>\n",
       "      <td>2357.765500</td>\n",
       "      <td>4503.742500</td>\n",
       "      <td>7755.137000</td>\n",
       "      <td>14167.005250</td>\n",
       "    </tr>\n",
       "    <tr>\n",
       "      <th>50%</th>\n",
       "      <td>1020.622500</td>\n",
       "      <td>2797.668000</td>\n",
       "      <td>5087.427500</td>\n",
       "      <td>8336.847000</td>\n",
       "      <td>14534.595500</td>\n",
       "    </tr>\n",
       "    <tr>\n",
       "      <th>75%</th>\n",
       "      <td>1421.399750</td>\n",
       "      <td>3252.643000</td>\n",
       "      <td>5903.047750</td>\n",
       "      <td>10183.140750</td>\n",
       "      <td>16101.058750</td>\n",
       "    </tr>\n",
       "    <tr>\n",
       "      <th>max</th>\n",
       "      <td>1911.844000</td>\n",
       "      <td>3990.689000</td>\n",
       "      <td>6987.196000</td>\n",
       "      <td>12209.438000</td>\n",
       "      <td>25043.050000</td>\n",
       "    </tr>\n",
       "  </tbody>\n",
       "</table>\n",
       "</div>"
      ],
      "text/plain": [
       "Monetary_Score            0            1            2             3  \\\n",
       "count            346.000000   275.000000   118.000000     46.000000   \n",
       "mean            1004.349838  2844.044321  5223.936874   8972.979304   \n",
       "std              519.539521   565.020635   806.322088   1546.362462   \n",
       "min                4.833000  1934.272000  4046.746000   7198.761000   \n",
       "25%              619.261000  2357.765500  4503.742500   7755.137000   \n",
       "50%             1020.622500  2797.668000  5087.427500   8336.847000   \n",
       "75%             1421.399750  3252.643000  5903.047750  10183.140750   \n",
       "max             1911.844000  3990.689000  6987.196000  12209.438000   \n",
       "\n",
       "Monetary_Score             4  \n",
       "count               8.000000  \n",
       "mean            16184.082375  \n",
       "std              4008.206477  \n",
       "min             12873.298000  \n",
       "25%             14167.005250  \n",
       "50%             14534.595500  \n",
       "75%             16101.058750  \n",
       "max             25043.050000  "
      ]
     },
     "execution_count": 366,
     "metadata": {},
     "output_type": "execute_result"
    }
   ],
   "source": [
    "#fit the model\n",
    "kmeans.fit(RFM[['Monetary']])\n",
    "\n",
    "#predict clusters \n",
    "monetary_labels = kmeans.predict(RFM[['Monetary']])\n",
    "\n",
    "# save clusters in data frame\n",
    "RFM['Monetary_Score'] = monetary_labels\n",
    "\n",
    "#order the clusters\n",
    "RFM = order_cluster('Monetary_Score', 'Monetary', RFM, True)\n",
    "\n",
    "# View descriptive information on the clusters\n",
    "\n",
    "RFM.groupby('Monetary_Score')['Monetary'].describe().T"
   ]
  },
  {
   "cell_type": "markdown",
   "id": "e0fb6efb",
   "metadata": {},
   "source": [
    "Cluster 4 has 8 customers where 75% of them spend at least $14k individually.  \n",
    "\n",
    "Minimum spend for this cluster is $11k"
   ]
  },
  {
   "cell_type": "code",
   "execution_count": 367,
   "id": "d937ff5c",
   "metadata": {},
   "outputs": [
    {
     "data": {
      "text/plain": [
       "<AxesSubplot:xlabel='Customer ID', ylabel='Monetary'>"
      ]
     },
     "execution_count": 367,
     "metadata": {},
     "output_type": "execute_result"
    },
    {
     "data": {
      "image/png": "[encoded data removed]",
      "text/plain": [
       "<Figure size 720x504 with 1 Axes>"
      ]
     },
     "metadata": {},
     "output_type": "display_data"
    }
   ],
   "source": [
    "sns.scatterplot(x = RFM['Customer ID'], y = 'Monetary', hue = 'Monetary_Score', data = RFM, palette = 'dark')"
   ]
  },
  {
   "cell_type": "markdown",
   "id": "5c67781d",
   "metadata": {},
   "source": [
    "### What is the overall RFM score for each customer?"
   ]
  },
  {
   "cell_type": "code",
   "execution_count": 368,
   "id": "96793700",
   "metadata": {},
   "outputs": [
    {
     "data": {
      "text/html": [
       "<div>\n",
       "<style scoped>\n",
       "    .dataframe tbody tr th:only-of-type {\n",
       "        vertical-align: middle;\n",
       "    }\n",
       "\n",
       "    .dataframe tbody tr th {\n",
       "        vertical-align: top;\n",
       "    }\n",
       "\n",
       "    .dataframe thead th {\n",
       "        text-align: right;\n",
       "    }\n",
       "</style>\n",
       "<table border=\"1\" class=\"dataframe\">\n",
       "  <thead>\n",
       "    <tr style=\"text-align: right;\">\n",
       "      <th></th>\n",
       "      <th>Customer ID</th>\n",
       "      <th>Recency</th>\n",
       "      <th>Frequency</th>\n",
       "      <th>Monetary</th>\n",
       "      <th>Recency_Score</th>\n",
       "      <th>Frequency_Score</th>\n",
       "      <th>Monetary_Score</th>\n",
       "      <th>Overall_Score</th>\n",
       "    </tr>\n",
       "  </thead>\n",
       "  <tbody>\n",
       "    <tr>\n",
       "      <th>0</th>\n",
       "      <td>AA-10315</td>\n",
       "      <td>-184</td>\n",
       "      <td>11</td>\n",
       "      <td>5563.560</td>\n",
       "      <td>2</td>\n",
       "      <td>1</td>\n",
       "      <td>2</td>\n",
       "      <td>5</td>\n",
       "    </tr>\n",
       "    <tr>\n",
       "      <th>1</th>\n",
       "      <td>DW-13480</td>\n",
       "      <td>-217</td>\n",
       "      <td>11</td>\n",
       "      <td>5271.628</td>\n",
       "      <td>2</td>\n",
       "      <td>1</td>\n",
       "      <td>2</td>\n",
       "      <td>5</td>\n",
       "    </tr>\n",
       "    <tr>\n",
       "      <th>2</th>\n",
       "      <td>JK-15640</td>\n",
       "      <td>-180</td>\n",
       "      <td>12</td>\n",
       "      <td>4760.434</td>\n",
       "      <td>2</td>\n",
       "      <td>1</td>\n",
       "      <td>2</td>\n",
       "      <td>5</td>\n",
       "    </tr>\n",
       "  </tbody>\n",
       "</table>\n",
       "</div>"
      ],
      "text/plain": [
       "  Customer ID  Recency  Frequency  Monetary  Recency_Score  Frequency_Score  \\\n",
       "0    AA-10315     -184         11  5563.560              2                1   \n",
       "1    DW-13480     -217         11  5271.628              2                1   \n",
       "2    JK-15640     -180         12  4760.434              2                1   \n",
       "\n",
       "   Monetary_Score  Overall_Score  \n",
       "0               2              5  \n",
       "1               2              5  \n",
       "2               2              5  "
      ]
     },
     "execution_count": 368,
     "metadata": {},
     "output_type": "execute_result"
    }
   ],
   "source": [
    "# Create a column in RFM that has a sum of the scores\n",
    "RFM['Overall_Score'] = RFM[['Monetary_Score', 'Recency_Score', 'Frequency_Score']].sum(axis = 1)\n",
    "RFM.head(3)"
   ]
  },
  {
   "cell_type": "code",
   "execution_count": 369,
   "id": "08109f2e",
   "metadata": {},
   "outputs": [
    {
     "data": {
      "text/plain": [
       "12"
      ]
     },
     "execution_count": 369,
     "metadata": {},
     "output_type": "execute_result"
    }
   ],
   "source": [
    "# What is the maximum score a customer has?\n",
    "RFM.Overall_Score.max()\n",
    "\n",
    "# why is the score 12? There are 3 features to assess the customers- recency, frequency and monetary value. the maximum any customer can have based on the clusters created (remember 0 indexing?) is 4.\n"
   ]
  },
  {
   "cell_type": "code",
   "execution_count": 370,
   "id": "095b00d7",
   "metadata": {},
   "outputs": [
    {
     "data": {
      "text/html": [
       "<div>\n",
       "<style scoped>\n",
       "    .dataframe tbody tr th:only-of-type {\n",
       "        vertical-align: middle;\n",
       "    }\n",
       "\n",
       "    .dataframe tbody tr th {\n",
       "        vertical-align: top;\n",
       "    }\n",
       "\n",
       "    .dataframe thead th {\n",
       "        text-align: right;\n",
       "    }\n",
       "</style>\n",
       "<table border=\"1\" class=\"dataframe\">\n",
       "  <thead>\n",
       "    <tr style=\"text-align: right;\">\n",
       "      <th></th>\n",
       "      <th>Recency</th>\n",
       "      <th>Frequency</th>\n",
       "      <th>Monetary</th>\n",
       "      <th>Recency_Score</th>\n",
       "      <th>Frequency_Score</th>\n",
       "      <th>Monetary_Score</th>\n",
       "      <th>Overall_Score</th>\n",
       "    </tr>\n",
       "  </thead>\n",
       "  <tbody>\n",
       "    <tr>\n",
       "      <th>count</th>\n",
       "      <td>793.000000</td>\n",
       "      <td>793.000000</td>\n",
       "      <td>793.000000</td>\n",
       "      <td>793.000000</td>\n",
       "      <td>793.000000</td>\n",
       "      <td>793.000000</td>\n",
       "      <td>793.000000</td>\n",
       "    </tr>\n",
       "    <tr>\n",
       "      <th>mean</th>\n",
       "      <td>-147.292560</td>\n",
       "      <td>12.588903</td>\n",
       "      <td>2885.588260</td>\n",
       "      <td>3.046658</td>\n",
       "      <td>1.496847</td>\n",
       "      <td>0.858764</td>\n",
       "      <td>5.402270</td>\n",
       "    </tr>\n",
       "    <tr>\n",
       "      <th>std</th>\n",
       "      <td>186.465917</td>\n",
       "      <td>6.242165</td>\n",
       "      <td>2627.150235</td>\n",
       "      <td>1.156489</td>\n",
       "      <td>1.146053</td>\n",
       "      <td>0.942931</td>\n",
       "      <td>2.424276</td>\n",
       "    </tr>\n",
       "    <tr>\n",
       "      <th>min</th>\n",
       "      <td>-1164.000000</td>\n",
       "      <td>1.000000</td>\n",
       "      <td>4.833000</td>\n",
       "      <td>0.000000</td>\n",
       "      <td>0.000000</td>\n",
       "      <td>0.000000</td>\n",
       "      <td>0.000000</td>\n",
       "    </tr>\n",
       "    <tr>\n",
       "      <th>25%</th>\n",
       "      <td>-183.000000</td>\n",
       "      <td>8.000000</td>\n",
       "      <td>1137.616000</td>\n",
       "      <td>2.000000</td>\n",
       "      <td>1.000000</td>\n",
       "      <td>0.000000</td>\n",
       "      <td>4.000000</td>\n",
       "    </tr>\n",
       "    <tr>\n",
       "      <th>50%</th>\n",
       "      <td>-76.000000</td>\n",
       "      <td>12.000000</td>\n",
       "      <td>2243.510000</td>\n",
       "      <td>3.000000</td>\n",
       "      <td>1.000000</td>\n",
       "      <td>1.000000</td>\n",
       "      <td>5.000000</td>\n",
       "    </tr>\n",
       "    <tr>\n",
       "      <th>75%</th>\n",
       "      <td>-30.000000</td>\n",
       "      <td>16.000000</td>\n",
       "      <td>3747.668000</td>\n",
       "      <td>4.000000</td>\n",
       "      <td>2.000000</td>\n",
       "      <td>1.000000</td>\n",
       "      <td>7.000000</td>\n",
       "    </tr>\n",
       "    <tr>\n",
       "      <th>max</th>\n",
       "      <td>0.000000</td>\n",
       "      <td>37.000000</td>\n",
       "      <td>25043.050000</td>\n",
       "      <td>4.000000</td>\n",
       "      <td>4.000000</td>\n",
       "      <td>4.000000</td>\n",
       "      <td>12.000000</td>\n",
       "    </tr>\n",
       "  </tbody>\n",
       "</table>\n",
       "</div>"
      ],
      "text/plain": [
       "           Recency   Frequency      Monetary  Recency_Score  Frequency_Score  \\\n",
       "count   793.000000  793.000000    793.000000     793.000000       793.000000   \n",
       "mean   -147.292560   12.588903   2885.588260       3.046658         1.496847   \n",
       "std     186.465917    6.242165   2627.150235       1.156489         1.146053   \n",
       "min   -1164.000000    1.000000      4.833000       0.000000         0.000000   \n",
       "25%    -183.000000    8.000000   1137.616000       2.000000         1.000000   \n",
       "50%     -76.000000   12.000000   2243.510000       3.000000         1.000000   \n",
       "75%     -30.000000   16.000000   3747.668000       4.000000         2.000000   \n",
       "max       0.000000   37.000000  25043.050000       4.000000         4.000000   \n",
       "\n",
       "       Monetary_Score  Overall_Score  \n",
       "count      793.000000     793.000000  \n",
       "mean         0.858764       5.402270  \n",
       "std          0.942931       2.424276  \n",
       "min          0.000000       0.000000  \n",
       "25%          0.000000       4.000000  \n",
       "50%          1.000000       5.000000  \n",
       "75%          1.000000       7.000000  \n",
       "max          4.000000      12.000000  "
      ]
     },
     "execution_count": 370,
     "metadata": {},
     "output_type": "execute_result"
    }
   ],
   "source": [
    "RFM.describe()"
   ]
  },
  {
   "cell_type": "markdown",
   "id": "50835513",
   "metadata": {},
   "source": [
    "Looking at the overall score, half of the customers score less than 6 points  \n",
    "\n",
    "75% of the customers have a score of 7  \n",
    "\n"
   ]
  },
  {
   "cell_type": "code",
   "execution_count": 371,
   "id": "ea4a1983",
   "metadata": {},
   "outputs": [
    {
     "data": {
      "text/plain": [
       "0      15\n",
       "1      38\n",
       "2      44\n",
       "3      73\n",
       "4     114\n",
       "5     133\n",
       "6     105\n",
       "7     108\n",
       "8      75\n",
       "9      56\n",
       "10     25\n",
       "11      6\n",
       "12      1\n",
       "Name: Overall_Score, dtype: int64"
      ]
     },
     "execution_count": 371,
     "metadata": {},
     "output_type": "execute_result"
    }
   ],
   "source": [
    "#Check distribution of scores from 0 to 12\n",
    "\n",
    "RFM.Overall_Score.sort_values().value_counts().sort_index()"
   ]
  },
  {
   "cell_type": "code",
   "execution_count": 372,
   "id": "3c3f5aa6",
   "metadata": {},
   "outputs": [
    {
     "data": {
      "text/plain": [
       "Text(0.5, 0, 'Overall Score')"
      ]
     },
     "execution_count": 372,
     "metadata": {},
     "output_type": "execute_result"
    },
    {
     "data": {
      "image/png": "[encoded data removed]",
      "text/plain": [
       "<Figure size 720x504 with 1 Axes>"
      ]
     },
     "metadata": {},
     "output_type": "display_data"
    }
   ],
   "source": [
    "# You can eyeball the results above but pictures help process information easily. Here, a bar plot is used to tell the same story\n",
    "\n",
    "\n",
    "RFM.Overall_Score.sort_values().value_counts().sort_index().plot.bar()\n",
    "plt.xticks(rotation = 0)\n",
    "plt.ylabel('Number of Customers')\n",
    "plt.xlabel('Overall Score')\n"
   ]
  },
  {
   "cell_type": "code",
   "execution_count": 373,
   "id": "8aa2f46e",
   "metadata": {},
   "outputs": [
    {
     "data": {
      "text/html": [
       "<div>\n",
       "<style scoped>\n",
       "    .dataframe tbody tr th:only-of-type {\n",
       "        vertical-align: middle;\n",
       "    }\n",
       "\n",
       "    .dataframe tbody tr th {\n",
       "        vertical-align: top;\n",
       "    }\n",
       "\n",
       "    .dataframe thead th {\n",
       "        text-align: right;\n",
       "    }\n",
       "</style>\n",
       "<table border=\"1\" class=\"dataframe\">\n",
       "  <thead>\n",
       "    <tr style=\"text-align: right;\">\n",
       "      <th></th>\n",
       "      <th>count</th>\n",
       "      <th>mean</th>\n",
       "      <th>std</th>\n",
       "      <th>min</th>\n",
       "      <th>25%</th>\n",
       "      <th>50%</th>\n",
       "      <th>75%</th>\n",
       "      <th>max</th>\n",
       "    </tr>\n",
       "    <tr>\n",
       "      <th>Overall_Score</th>\n",
       "      <th></th>\n",
       "      <th></th>\n",
       "      <th></th>\n",
       "      <th></th>\n",
       "      <th></th>\n",
       "      <th></th>\n",
       "      <th></th>\n",
       "      <th></th>\n",
       "    </tr>\n",
       "  </thead>\n",
       "  <tbody>\n",
       "    <tr>\n",
       "      <th>0</th>\n",
       "      <td>15.0</td>\n",
       "      <td>539.948533</td>\n",
       "      <td>464.280988</td>\n",
       "      <td>48.360</td>\n",
       "      <td>228.80700</td>\n",
       "      <td>368.8800</td>\n",
       "      <td>812.00400</td>\n",
       "      <td>1537.2360</td>\n",
       "    </tr>\n",
       "    <tr>\n",
       "      <th>1</th>\n",
       "      <td>38.0</td>\n",
       "      <td>943.356895</td>\n",
       "      <td>653.088082</td>\n",
       "      <td>4.833</td>\n",
       "      <td>448.53900</td>\n",
       "      <td>885.3980</td>\n",
       "      <td>1357.62650</td>\n",
       "      <td>2390.5340</td>\n",
       "    </tr>\n",
       "    <tr>\n",
       "      <th>2</th>\n",
       "      <td>44.0</td>\n",
       "      <td>1042.958607</td>\n",
       "      <td>825.224531</td>\n",
       "      <td>16.739</td>\n",
       "      <td>396.39100</td>\n",
       "      <td>931.4195</td>\n",
       "      <td>1355.21300</td>\n",
       "      <td>3246.6260</td>\n",
       "    </tr>\n",
       "    <tr>\n",
       "      <th>3</th>\n",
       "      <td>73.0</td>\n",
       "      <td>1292.224181</td>\n",
       "      <td>910.684487</td>\n",
       "      <td>71.263</td>\n",
       "      <td>742.08200</td>\n",
       "      <td>1090.8380</td>\n",
       "      <td>1613.40200</td>\n",
       "      <td>3984.4524</td>\n",
       "    </tr>\n",
       "    <tr>\n",
       "      <th>4</th>\n",
       "      <td>114.0</td>\n",
       "      <td>1424.038818</td>\n",
       "      <td>1052.160267</td>\n",
       "      <td>22.328</td>\n",
       "      <td>698.65500</td>\n",
       "      <td>1266.7970</td>\n",
       "      <td>1883.42500</td>\n",
       "      <td>6979.1800</td>\n",
       "    </tr>\n",
       "    <tr>\n",
       "      <th>5</th>\n",
       "      <td>133.0</td>\n",
       "      <td>1934.783350</td>\n",
       "      <td>1406.146192</td>\n",
       "      <td>239.481</td>\n",
       "      <td>1008.13600</td>\n",
       "      <td>1582.1090</td>\n",
       "      <td>2461.40400</td>\n",
       "      <td>10501.6530</td>\n",
       "    </tr>\n",
       "    <tr>\n",
       "      <th>6</th>\n",
       "      <td>105.0</td>\n",
       "      <td>3095.904996</td>\n",
       "      <td>2066.510416</td>\n",
       "      <td>1056.390</td>\n",
       "      <td>2005.59600</td>\n",
       "      <td>2876.0460</td>\n",
       "      <td>3589.29600</td>\n",
       "      <td>19052.2180</td>\n",
       "    </tr>\n",
       "    <tr>\n",
       "      <th>7</th>\n",
       "      <td>108.0</td>\n",
       "      <td>3678.628027</td>\n",
       "      <td>1770.986311</td>\n",
       "      <td>1324.028</td>\n",
       "      <td>2485.02175</td>\n",
       "      <td>3207.8860</td>\n",
       "      <td>4307.50825</td>\n",
       "      <td>11789.6300</td>\n",
       "    </tr>\n",
       "    <tr>\n",
       "      <th>8</th>\n",
       "      <td>75.0</td>\n",
       "      <td>4496.489172</td>\n",
       "      <td>2230.137154</td>\n",
       "      <td>2218.980</td>\n",
       "      <td>3012.61050</td>\n",
       "      <td>4159.7700</td>\n",
       "      <td>4880.12150</td>\n",
       "      <td>14142.3340</td>\n",
       "    </tr>\n",
       "    <tr>\n",
       "      <th>9</th>\n",
       "      <td>56.0</td>\n",
       "      <td>6352.380402</td>\n",
       "      <td>3652.354340</td>\n",
       "      <td>2224.000</td>\n",
       "      <td>4463.43925</td>\n",
       "      <td>5591.7890</td>\n",
       "      <td>7408.97325</td>\n",
       "      <td>25043.0500</td>\n",
       "    </tr>\n",
       "    <tr>\n",
       "      <th>10</th>\n",
       "      <td>25.0</td>\n",
       "      <td>7794.721392</td>\n",
       "      <td>2545.285573</td>\n",
       "      <td>4299.161</td>\n",
       "      <td>6076.13900</td>\n",
       "      <td>7473.8282</td>\n",
       "      <td>8673.22200</td>\n",
       "      <td>15117.3390</td>\n",
       "    </tr>\n",
       "    <tr>\n",
       "      <th>11</th>\n",
       "      <td>6.0</td>\n",
       "      <td>10010.073333</td>\n",
       "      <td>2698.709008</td>\n",
       "      <td>7294.185</td>\n",
       "      <td>8181.01375</td>\n",
       "      <td>9223.4285</td>\n",
       "      <td>11315.07075</td>\n",
       "      <td>14473.5710</td>\n",
       "    </tr>\n",
       "    <tr>\n",
       "      <th>12</th>\n",
       "      <td>1.0</td>\n",
       "      <td>14175.229000</td>\n",
       "      <td>NaN</td>\n",
       "      <td>14175.229</td>\n",
       "      <td>14175.22900</td>\n",
       "      <td>14175.2290</td>\n",
       "      <td>14175.22900</td>\n",
       "      <td>14175.2290</td>\n",
       "    </tr>\n",
       "  </tbody>\n",
       "</table>\n",
       "</div>"
      ],
      "text/plain": [
       "               count          mean          std        min          25%  \\\n",
       "Overall_Score                                                             \n",
       "0               15.0    539.948533   464.280988     48.360    228.80700   \n",
       "1               38.0    943.356895   653.088082      4.833    448.53900   \n",
       "2               44.0   1042.958607   825.224531     16.739    396.39100   \n",
       "3               73.0   1292.224181   910.684487     71.263    742.08200   \n",
       "4              114.0   1424.038818  1052.160267     22.328    698.65500   \n",
       "5              133.0   1934.783350  1406.146192    239.481   1008.13600   \n",
       "6              105.0   3095.904996  2066.510416   1056.390   2005.59600   \n",
       "7              108.0   3678.628027  1770.986311   1324.028   2485.02175   \n",
       "8               75.0   4496.489172  2230.137154   2218.980   3012.61050   \n",
       "9               56.0   6352.380402  3652.354340   2224.000   4463.43925   \n",
       "10              25.0   7794.721392  2545.285573   4299.161   6076.13900   \n",
       "11               6.0  10010.073333  2698.709008   7294.185   8181.01375   \n",
       "12               1.0  14175.229000          NaN  14175.229  14175.22900   \n",
       "\n",
       "                      50%          75%         max  \n",
       "Overall_Score                                       \n",
       "0                368.8800    812.00400   1537.2360  \n",
       "1                885.3980   1357.62650   2390.5340  \n",
       "2                931.4195   1355.21300   3246.6260  \n",
       "3               1090.8380   1613.40200   3984.4524  \n",
       "4               1266.7970   1883.42500   6979.1800  \n",
       "5               1582.1090   2461.40400  10501.6530  \n",
       "6               2876.0460   3589.29600  19052.2180  \n",
       "7               3207.8860   4307.50825  11789.6300  \n",
       "8               4159.7700   4880.12150  14142.3340  \n",
       "9               5591.7890   7408.97325  25043.0500  \n",
       "10              7473.8282   8673.22200  15117.3390  \n",
       "11              9223.4285  11315.07075  14473.5710  \n",
       "12             14175.2290  14175.22900  14175.2290  "
      ]
     },
     "execution_count": 373,
     "metadata": {},
     "output_type": "execute_result"
    }
   ],
   "source": [
    "# Draw up descriptive stats for the overall score by monetary value\n",
    "\n",
    "RFM.groupby('Overall_Score')['Monetary'].describe()"
   ]
  },
  {
   "cell_type": "code",
   "execution_count": 374,
   "id": "c0546dde",
   "metadata": {},
   "outputs": [
    {
     "data": {
      "text/plain": [
       "Text(0.5, 1.0, 'Frequency vs Overall Score')"
      ]
     },
     "execution_count": 374,
     "metadata": {},
     "output_type": "execute_result"
    },
    {
     "data": {
      "image/png": "[encoded data removed]",
      "text/plain": [
       "<Figure size 720x504 with 1 Axes>"
      ]
     },
     "metadata": {},
     "output_type": "display_data"
    }
   ],
   "source": [
    "# Plot overall score by purchase frequency\n",
    "sns.stripplot(y='Frequency',x='Overall_Score',data = RFM)\n",
    "plt.title('Frequency vs Overall Score')"
   ]
  },
  {
   "cell_type": "code",
   "execution_count": 375,
   "id": "166898ee",
   "metadata": {},
   "outputs": [
    {
     "data": {
      "text/plain": [
       "Text(0.5, 1.0, 'Recency vs Overall Score')"
      ]
     },
     "execution_count": 375,
     "metadata": {},
     "output_type": "execute_result"
    },
    {
     "data": {
      "image/png": "[encoded data removed]",
      "text/plain": [
       "<Figure size 720x504 with 1 Axes>"
      ]
     },
     "metadata": {},
     "output_type": "display_data"
    }
   ],
   "source": [
    "# Plot overall score by purchase recency\n",
    "sns.stripplot(y='Recency',x='Overall_Score',data = RFM)\n",
    "plt.title('Recency vs Overall Score')"
   ]
  },
  {
   "cell_type": "code",
   "execution_count": 376,
   "id": "4bde1d14",
   "metadata": {},
   "outputs": [
    {
     "data": {
      "text/plain": [
       "Text(0.5, 1.0, 'Monetary Value vs Overall Score')"
      ]
     },
     "execution_count": 376,
     "metadata": {},
     "output_type": "execute_result"
    },
    {
     "data": {
      "image/png": "[encoded data removed]",
      "text/plain": [
       "<Figure size 720x504 with 1 Axes>"
      ]
     },
     "metadata": {},
     "output_type": "display_data"
    }
   ],
   "source": [
    "# Plot overall score by monetary value\n",
    "sns.stripplot(y='Monetary',x='Overall_Score',data = RFM)\n",
    "plt.title('Monetary Value vs Overall Score')"
   ]
  },
  {
   "cell_type": "markdown",
   "id": "3dad5797",
   "metadata": {},
   "source": [
    "Given the scores, it is possible to create segments that streamline the type of customers that exist. "
   ]
  },
  {
   "cell_type": "code",
   "execution_count": 377,
   "id": "1297f6dd",
   "metadata": {},
   "outputs": [],
   "source": [
    "RFM['Segment'] = 'Low Value'\n",
    "RFM.loc[RFM.Overall_Score >5, 'Segment'] = 'Mid Value'\n",
    "RFM.loc[RFM.Overall_Score >8, 'Segment'] = 'HighValue'"
   ]
  },
  {
   "cell_type": "code",
   "execution_count": 378,
   "id": "74255df5",
   "metadata": {},
   "outputs": [
    {
     "data": {
      "text/plain": [
       "Low Value    417\n",
       "Mid Value    288\n",
       "HighValue     88\n",
       "Name: Segment, dtype: int64"
      ]
     },
     "execution_count": 378,
     "metadata": {},
     "output_type": "execute_result"
    }
   ],
   "source": [
    "RFM.Segment.value_counts()"
   ]
  },
  {
   "cell_type": "code",
   "execution_count": 379,
   "id": "c681f5d8",
   "metadata": {},
   "outputs": [
    {
     "data": {
      "text/html": [
       "<div>\n",
       "<style scoped>\n",
       "    .dataframe tbody tr th:only-of-type {\n",
       "        vertical-align: middle;\n",
       "    }\n",
       "\n",
       "    .dataframe tbody tr th {\n",
       "        vertical-align: top;\n",
       "    }\n",
       "\n",
       "    .dataframe thead th {\n",
       "        text-align: right;\n",
       "    }\n",
       "</style>\n",
       "<table border=\"1\" class=\"dataframe\">\n",
       "  <thead>\n",
       "    <tr style=\"text-align: right;\">\n",
       "      <th></th>\n",
       "      <th>Customer ID</th>\n",
       "      <th>Recency</th>\n",
       "      <th>Frequency</th>\n",
       "      <th>Monetary</th>\n",
       "      <th>Recency_Score</th>\n",
       "      <th>Frequency_Score</th>\n",
       "      <th>Monetary_Score</th>\n",
       "      <th>Overall_Score</th>\n",
       "      <th>Segment</th>\n",
       "    </tr>\n",
       "  </thead>\n",
       "  <tbody>\n",
       "    <tr>\n",
       "      <th>792</th>\n",
       "      <td>KL-16645</td>\n",
       "      <td>-47</td>\n",
       "      <td>29</td>\n",
       "      <td>14175.229</td>\n",
       "      <td>4</td>\n",
       "      <td>4</td>\n",
       "      <td>4</td>\n",
       "      <td>12</td>\n",
       "      <td>HighValue</td>\n",
       "    </tr>\n",
       "  </tbody>\n",
       "</table>\n",
       "</div>"
      ],
      "text/plain": [
       "    Customer ID  Recency  Frequency   Monetary  Recency_Score  \\\n",
       "792    KL-16645      -47         29  14175.229              4   \n",
       "\n",
       "     Frequency_Score  Monetary_Score  Overall_Score    Segment  \n",
       "792                4               4             12  HighValue  "
      ]
     },
     "execution_count": 379,
     "metadata": {},
     "output_type": "execute_result"
    }
   ],
   "source": [
    "#Which customer has the perfect score of 12?\n",
    "\n",
    "RFM[RFM['Overall_Score']== 12]"
   ]
  },
  {
   "cell_type": "code",
   "execution_count": 380,
   "id": "cdbc3e12",
   "metadata": {},
   "outputs": [
    {
     "data": {
      "text/plain": [
       "25043.05"
      ]
     },
     "execution_count": 380,
     "metadata": {},
     "output_type": "execute_result"
    }
   ],
   "source": [
    "# What is the maximum spend>\n",
    "RFM.Monetary.max()"
   ]
  },
  {
   "cell_type": "code",
   "execution_count": 381,
   "id": "dfc4c52c",
   "metadata": {},
   "outputs": [
    {
     "data": {
      "text/html": [
       "<div>\n",
       "<style scoped>\n",
       "    .dataframe tbody tr th:only-of-type {\n",
       "        vertical-align: middle;\n",
       "    }\n",
       "\n",
       "    .dataframe tbody tr th {\n",
       "        vertical-align: top;\n",
       "    }\n",
       "\n",
       "    .dataframe thead th {\n",
       "        text-align: right;\n",
       "    }\n",
       "</style>\n",
       "<table border=\"1\" class=\"dataframe\">\n",
       "  <thead>\n",
       "    <tr style=\"text-align: right;\">\n",
       "      <th></th>\n",
       "      <th>Customer ID</th>\n",
       "      <th>Recency</th>\n",
       "      <th>Frequency</th>\n",
       "      <th>Monetary</th>\n",
       "      <th>Recency_Score</th>\n",
       "      <th>Frequency_Score</th>\n",
       "      <th>Monetary_Score</th>\n",
       "      <th>Overall_Score</th>\n",
       "      <th>Segment</th>\n",
       "    </tr>\n",
       "  </thead>\n",
       "  <tbody>\n",
       "    <tr>\n",
       "      <th>788</th>\n",
       "      <td>SM-20320</td>\n",
       "      <td>-79</td>\n",
       "      <td>15</td>\n",
       "      <td>25043.05</td>\n",
       "      <td>3</td>\n",
       "      <td>2</td>\n",
       "      <td>4</td>\n",
       "      <td>9</td>\n",
       "      <td>HighValue</td>\n",
       "    </tr>\n",
       "  </tbody>\n",
       "</table>\n",
       "</div>"
      ],
      "text/plain": [
       "    Customer ID  Recency  Frequency  Monetary  Recency_Score  Frequency_Score  \\\n",
       "788    SM-20320      -79         15  25043.05              3                2   \n",
       "\n",
       "     Monetary_Score  Overall_Score    Segment  \n",
       "788               4              9  HighValue  "
      ]
     },
     "execution_count": 381,
     "metadata": {},
     "output_type": "execute_result"
    }
   ],
   "source": [
    "# Which customer spent the maximum and why is their score not a 12?\n",
    "\n",
    "RFM[RFM.Monetary >25000]"
   ]
  },
  {
   "cell_type": "markdown",
   "id": "2eff601b",
   "metadata": {},
   "source": [
    "The customer is still high value but the frequency scores is rather low. "
   ]
  },
  {
   "cell_type": "code",
   "execution_count": 382,
   "id": "ffd45fc7",
   "metadata": {},
   "outputs": [
    {
     "data": {
      "text/plain": [
       "Low Value    0.525851\n",
       "Mid Value    0.363178\n",
       "HighValue    0.110971\n",
       "Name: Segment, dtype: float64"
      ]
     },
     "execution_count": 382,
     "metadata": {},
     "output_type": "execute_result"
    }
   ],
   "source": [
    "RFM.Segment.value_counts(normalize = True)"
   ]
  },
  {
   "cell_type": "code",
   "execution_count": 384,
   "id": "c9565cd0",
   "metadata": {},
   "outputs": [
    {
     "data": {
      "image/png": "[encoded data removed]",
      "text/plain": [
       "<Figure size 720x504 with 1 Axes>"
      ]
     },
     "metadata": {},
     "output_type": "display_data"
    }
   ],
   "source": [
    "from matplotlib.ticker import StrMethodFormatter\n",
    "A = RFM.Segment.value_counts(normalize = True) *100\n",
    "A.plot.bar()\n",
    "plt.title('% Distribution of Customers by Segment')\n",
    "plt.xticks(rotation = 0)\n",
    "plt.gca().yaxis.set_major_formatter(StrMethodFormatter('{x:,.2f}')) "
   ]
  },
  {
   "cell_type": "code",
   "execution_count": 385,
   "id": "315a4ad7",
   "metadata": {},
   "outputs": [
    {
     "data": {
      "text/plain": [
       "33"
      ]
     },
     "execution_count": 385,
     "metadata": {},
     "output_type": "execute_result"
    }
   ],
   "source": [
    "2022-1989"
   ]
  }
 ],
 "metadata": {
  "kernelspec": {
   "display_name": "Python 3 (ipykernel)",
   "language": "python",
   "name": "python3"
  },
  "language_info": {
   "codemirror_mode": {
    "name": "ipython",
    "version": 3
   },
   "file_extension": ".py",
   "mimetype": "text/x-python",
   "name": "python",
   "nbconvert_exporter": "python",
   "pygments_lexer": "ipython3",
   "version": "3.9.7"
  }
 },
 "nbformat": 4,
 "nbformat_minor": 5
}
